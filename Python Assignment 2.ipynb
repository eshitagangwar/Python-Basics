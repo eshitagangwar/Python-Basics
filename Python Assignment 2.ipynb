{
 "cells": [
  {
   "cell_type": "markdown",
   "metadata": {},
   "source": [
    "#                                                  ASSIGNMENT 2"
   ]
  },
  {
   "cell_type": "markdown",
   "metadata": {},
   "source": [
    "### 1.Accept 3 inputs from the user: op1, op2,op3. If op3 is 1 the add op1 and op2 and display the result. \n",
    "If op3 is 2 display the difference,\n",
    "if op3 Is 3 display the product, \n",
    "if op3 is 4 display the quotient as a floating point value.\n",
    "Use If-else ladder to solve the problem."
   ]
  },
  {
   "cell_type": "code",
   "execution_count": 7,
   "metadata": {},
   "outputs": [
    {
     "name": "stdout",
     "output_type": "stream",
     "text": [
      "Enter 1st no.1\n",
      "Enter 2nd no.2\n",
      "Enter the op \n",
      " 1 :add \n",
      " 2: sub \n",
      " 3: product \n",
      " 4: divide \n",
      "3\n",
      "Product is : 2\n"
     ]
    }
   ],
   "source": [
    "try:\n",
    "    var1 = int(input(\"Enter 1st no.\"))\n",
    "    var2 = int(input(\"Enter 2nd no.\"))\n",
    "    ch = int(input(\"Enter the op \\n 1 :add \\n 2: sub \\n 3: product \\n 4: divide \\n\"))\n",
    "    \n",
    "    if(ch == 1):\n",
    "        print(\"Addition is :\",var1+var2)\n",
    "    if(ch == 2):\n",
    "        print(\"Subtraction is :\",var1-var2)\n",
    "    if(ch == 3):\n",
    "        print(\"Product is :\",var1*var2)\n",
    "    if(ch == 4):\n",
    "        print(\"Division is :\",float(var1/var2))\n",
    "    \n",
    "    \n",
    "    \n",
    "except: \n",
    "    print(\"Invalid Number\")\n"
   ]
  },
  {
   "cell_type": "markdown",
   "metadata": {},
   "source": [
    "### 2.\tIn a car racing video game, \n",
    "the car is an object. You can drive the car, turn the car, or stop the car when needed but you need to drive long.\n",
    "You will get money according to the Km you have travelled. For example if you have travelled 123 km then the product\n",
    "of the km (ie 1*2*3 = 6) would be the amount you win. \n",
    "Write a program to find the product of the digits in the given input number."
   ]
  },
  {
   "cell_type": "code",
   "execution_count": 11,
   "metadata": {},
   "outputs": [
    {
     "name": "stdout",
     "output_type": "stream",
     "text": [
      "enter the speed124\n",
      "\n",
      "\n",
      "8\n"
     ]
    }
   ],
   "source": [
    "\n",
    "try:\n",
    "    n = int(input(\"enter the speed\"))\n",
    "    print(\"\\n\")\n",
    "    m=0\n",
    "    t=1\n",
    "    while(n>0):\n",
    "        m = n%10\n",
    "    \n",
    "        t = t*m\n",
    "        \n",
    "        n = int(n/10)\n",
    "        \n",
    "    print(t)\n",
    "except:\n",
    "    print(\"Invalid Number\")"
   ]
  },
  {
   "cell_type": "markdown",
   "metadata": {},
   "source": [
    "### 3. Write an algorithm to accept a number and return the reverse of the same. If the number ends with one or more zeros, \n",
    " then in the reversed number those zeros will not be present (since those zeros become leading zeros). "
   ]
  },
  {
   "cell_type": "code",
   "execution_count": 12,
   "metadata": {},
   "outputs": [
    {
     "name": "stdout",
     "output_type": "stream",
     "text": [
      "enter the speed1230000000\n",
      "3 2 1 "
     ]
    }
   ],
   "source": [
    "\n",
    "try:\n",
    "    n = int(input(\"enter the speed\"))\n",
    "    m=0\n",
    "    t=1\n",
    "    l =[]\n",
    "    while(n>0):\n",
    "        m = n%10\n",
    "        \n",
    "        l.append(m)\n",
    "        n = int(n/10)\n",
    "        \n",
    "    \n",
    "    i = 0\n",
    "    while( i< (len(l))):\n",
    "        if(l[i] != 0):\n",
    "            print(l[i],end=\" \")\n",
    "        i =i+1\n",
    "except:\n",
    "    print(\"Invalid Number\")\n"
   ]
  },
  {
   "cell_type": "markdown",
   "metadata": {},
   "source": [
    "### 4. Abay and Babita are playing chess. They play three rounds. Abay’s scores are stored in variables a1, a2, a3. \n",
    " Babita’s scores are stored in variables b1,b2,b3. The total in computed by comparing the individual rounds. \n",
    " If a1 > b1 then Abay gets 1 point. \n",
    " If a1 = b1 then nobody gets any point.\n",
    " If a1 < b1 then Babita gets 1 point.\n",
    " You have to find the points in each round and sum it to up to get the final score and declare the winner."
   ]
  },
  {
   "cell_type": "code",
   "execution_count": 13,
   "metadata": {},
   "outputs": [
    {
     "name": "stdout",
     "output_type": "stream",
     "text": [
      "Enter the Abhay's points\n",
      "Enter the marks :1\n",
      "Enter the marks :2\n",
      "Enter the marks :3\n",
      "Enter the Babita's points\n",
      "Enter the marks :2\n",
      "Enter the marks :1\n",
      "Enter the marks :2\n",
      "Abhay is the winner\n"
     ]
    }
   ],
   "source": [
    "\n",
    "try:\n",
    "    a = []\n",
    "    b = []\n",
    "    a_win = 0\n",
    "    b_win = 0\n",
    "    print(\"Enter the Abhay's points\")\n",
    "    for i in range(3):\n",
    "        w = int(input(\"Enter the marks :\"))\n",
    "        a.append(w)\n",
    "    print(\"Enter the Babita's points\")\n",
    "    for i in range(3):\n",
    "        w = int(input(\"Enter the marks :\" ))\n",
    "        b.append(w)\n",
    "    for i in range(len(a)):\n",
    "        if(a[i] > b[i]):\n",
    "            a_win = a_win +1            \n",
    "        elif (a[i]< b[i]):\n",
    "            b_win = b_win + 1            \n",
    "        else:\n",
    "            a_win = a_win +0\n",
    "            b_win = b_win + 0\n",
    "    \n",
    "    \n",
    "    \n",
    "    if (a_win > b_win):\n",
    "        print(\"Abhay is the winner\")\n",
    "    elif (a_win < b_win):\n",
    "        print(\"Babita is the winner\")\n",
    "    else:\n",
    "        print(\"Draw\")\n",
    "except:\n",
    "    print('Invalid number')"
   ]
  },
  {
   "cell_type": "markdown",
   "metadata": {},
   "source": [
    "### 5.\tConvert a given decimal number into binary.  For Example if a number 5 is the input, the output should be 101."
   ]
  },
  {
   "cell_type": "code",
   "execution_count": 14,
   "metadata": {},
   "outputs": [
    {
     "name": "stdout",
     "output_type": "stream",
     "text": [
      "enter a no.5\n",
      "1 0 1 "
     ]
    }
   ],
   "source": [
    "\n",
    "try:\n",
    "    m=0\n",
    "    l = []\n",
    "    n = int(input(\"enter a no.\"))\n",
    "    while(n>0):\n",
    "        m = n%2\n",
    "      \n",
    "        l.append(m)\n",
    "        n = int(n/2)\n",
    "        \n",
    "    i=len(l)-1\n",
    "    \n",
    "    \n",
    "    while(i>=0):\n",
    "        \n",
    "        print(l[i],end=\" \")\n",
    "        \n",
    "        i =i-1\n",
    "    \n",
    "except:\n",
    "    print(\"Invalid Input\")"
   ]
  },
  {
   "cell_type": "markdown",
   "metadata": {},
   "source": [
    "### 6 Convert a given binary number into decimal. For example if a given number is 101, then he output should be 5."
   ]
  },
  {
   "cell_type": "code",
   "execution_count": 15,
   "metadata": {},
   "outputs": [
    {
     "name": "stdout",
     "output_type": "stream",
     "text": [
      "enter a no.101\n",
      "5\n"
     ]
    }
   ],
   "source": [
    "\n",
    "try:\n",
    "    m=0\n",
    "    l = []\n",
    "    n = int(input(\"enter a no.\"))\n",
    "    while(n>0):\n",
    "        m = n%10\n",
    "        l.append(m)\n",
    "        n = int(n/10)\n",
    "        \n",
    "    \n",
    "    i=len(l)-1\n",
    "\n",
    "    t=0\n",
    "    while(i>=0):\n",
    "        t = t + (l[i]*(2**i))\n",
    "        i =i-1\n",
    "    print(t)\n",
    "except:\n",
    "    print(\"Invalid Input\")\n"
   ]
  },
  {
   "cell_type": "markdown",
   "metadata": {},
   "source": [
    "### 7.Write a program to generate n Fibonacci series\n"
   ]
  },
  {
   "cell_type": "code",
   "execution_count": 17,
   "metadata": {},
   "outputs": [
    {
     "name": "stdout",
     "output_type": "stream",
     "text": [
      "enter the number4\n",
      "0\n",
      "1\n",
      "1\n",
      "2\n"
     ]
    }
   ],
   "source": [
    "\n",
    "n = int(input(\"enter the number\"))\n",
    "a = 0\n",
    "b = 1\n",
    "s = 0\n",
    "print(a)\n",
    "#print(b)\n",
    "for i in range(n-1):\n",
    "    s = a + b\n",
    "    a = b\n",
    "    b = s\n",
    "    print(a)\n"
   ]
  },
  {
   "cell_type": "markdown",
   "metadata": {},
   "source": [
    "### 8.\tDisplay the grade of N students in an examination based on their average score.\n",
    "#Average score has to be accepted from the user. The grades are computed as per the table below:\n",
    "\n",
    "#Score\tGrade\n",
    "#80 to 100\tA\n",
    "#50 to 79\tB\n",
    "#35 to 49\tC\n",
    "#Less than 35\tfail"
   ]
  },
  {
   "cell_type": "code",
   "execution_count": 18,
   "metadata": {},
   "outputs": [
    {
     "name": "stdout",
     "output_type": "stream",
     "text": [
      "enter the marks34\n",
      "\n",
      " The Result is: fail\n"
     ]
    }
   ],
   "source": [
    "\n",
    "\n",
    "try:\n",
    "    a = int(input(\"enter the marks\"))\n",
    "    print(\"\\n The Result is:\",end=\" \")\n",
    "    if(a >=80 and a<=100):\n",
    "        print(\"A\")\n",
    "    elif(a >=50 and a <=79):\n",
    "        print(\"B\")\n",
    "    elif(a >=35 and a<= 49):\n",
    "        print(\"C\")\n",
    "    elif(a<35):\n",
    "        print(\"fail\")\n",
    "except:\n",
    "    print(\"Invalid\")\n"
   ]
  },
  {
   "cell_type": "markdown",
   "metadata": {},
   "source": [
    "### 9.Generate the following pattern"
   ]
  },
  {
   "cell_type": "code",
   "execution_count": 19,
   "metadata": {},
   "outputs": [
    {
     "name": "stdout",
     "output_type": "stream",
     "text": [
      "\n",
      "*\n",
      "**\n",
      "***\n",
      "****\n",
      "*****\n"
     ]
    }
   ],
   "source": [
    "\n",
    "for i in range(6):\n",
    "    for j in range(0,i):\n",
    "        print(\"*\", end =\"\")\n",
    "    print(\"\")\n",
    "\n"
   ]
  }
 ],
 "metadata": {
  "kernelspec": {
   "display_name": "Python 3",
   "language": "python",
   "name": "python3"
  },
  "language_info": {
   "codemirror_mode": {
    "name": "ipython",
    "version": 3
   },
   "file_extension": ".py",
   "mimetype": "text/x-python",
   "name": "python",
   "nbconvert_exporter": "python",
   "pygments_lexer": "ipython3",
   "version": "3.6.4"
  }
 },
 "nbformat": 4,
 "nbformat_minor": 2
}
