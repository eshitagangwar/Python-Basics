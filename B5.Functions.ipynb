{
 "cells": [
  {
   "cell_type": "code",
   "execution_count": 1,
   "metadata": {},
   "outputs": [
    {
     "data": {
      "text/plain": [
       "\"\\n1.type\\n2. max\\n3. min\\n4. conversion functions : int, float, str\\n5. random\\nprint(max('Hello world'))\\nprint(min('helloworld'))\\n\\nimport random\\n\\nfor i in range(10):\\n    x = random.random()\\n    print(x)\\n    \\n    \\n6. randint\\n\\nrandom.randint(5, 10)\\nrandom.randint(5, 10)\\nt = [1, 2, 3]\\nrandom.choice(t)\\nrandom.choice(t)\\n7. Math functions - pi, sin, sqrt, \\nimport math\\nratio = signal_power / noise_power\\n\\ndecibels = 10 * math.log10(ratio)\\n\\n radians = 0.7\\n height = math.sin(radians)\\n degrees = 45\\n radians = degrees / 360.0 * 2 * math.pi\\n math.sin(radians)\\nmath.sqrt(2) / 2.0\\n\\nx = math.cos(radians)\\ngolden = (math.sqrt(5) + 1) / 2\\n\\n\""
      ]
     },
     "execution_count": 1,
     "metadata": {},
     "output_type": "execute_result"
    }
   ],
   "source": [
    "#Built in functions\n",
    "'''\n",
    "1.type\n",
    "2. max\n",
    "3. min\n",
    "4. conversion functions : int, float, str\n",
    "5. random\n",
    "print(max('Hello world'))\n",
    "print(min('helloworld'))\n",
    "\n",
    "import random\n",
    "\n",
    "for i in range(10):\n",
    "    x = random.random()\n",
    "    print(x)\n",
    "    \n",
    "    \n",
    "6. randint\n",
    "\n",
    "random.randint(5, 10)\n",
    "random.randint(5, 10)\n",
    "t = [1, 2, 3]\n",
    "random.choice(t)\n",
    "random.choice(t)\n",
    "7. Math functions - pi, sin, sqrt, \n",
    "import math\n",
    "ratio = signal_power / noise_power\n",
    "\n",
    "decibels = 10 * math.log10(ratio)\n",
    "\n",
    " radians = 0.7\n",
    " height = math.sin(radians)\n",
    " degrees = 45\n",
    " radians = degrees / 360.0 * 2 * math.pi\n",
    " math.sin(radians)\n",
    "math.sqrt(2) / 2.0\n",
    "\n",
    "x = math.cos(radians)\n",
    "golden = (math.sqrt(5) + 1) / 2\n",
    "\n",
    "'''"
   ]
  },
  {
   "cell_type": "code",
   "execution_count": 2,
   "metadata": {},
   "outputs": [],
   "source": [
    "# defining void funtions\n",
    "def print_lyrics():\n",
    "    print(\"I'm a lumberjack, and I'm okay.\")\n",
    "    print('I sleep all night and I work all day.')"
   ]
  },
  {
   "cell_type": "code",
   "execution_count": 3,
   "metadata": {},
   "outputs": [
    {
     "name": "stdout",
     "output_type": "stream",
     "text": [
      "<class 'function'>\n",
      "I'm a lumberjack, and I'm okay.\n",
      "I sleep all night and I work all day.\n"
     ]
    }
   ],
   "source": [
    "print(type(print_lyrics))\n",
    "#calling the function:\n",
    "print_lyrics()"
   ]
  },
  {
   "cell_type": "code",
   "execution_count": 4,
   "metadata": {},
   "outputs": [],
   "source": [
    "#Functions with arguments"
   ]
  },
  {
   "cell_type": "code",
   "execution_count": 5,
   "metadata": {},
   "outputs": [],
   "source": [
    "def isPrime(number):\n",
    "    count = 2\n",
    "    isPrime = 1 #The number is assumed to be prime\n",
    "    while count <= number//2:\n",
    "        if number % count == 0:\n",
    "            isPrime = 0 #the number is not prime\n",
    "            break\n",
    "        else:\n",
    "            count = count +1\n",
    "    if isPrime == 1:\n",
    "        return True\n",
    "    else:\n",
    "        return False"
   ]
  },
  {
   "cell_type": "code",
   "execution_count": 6,
   "metadata": {},
   "outputs": [
    {
     "name": "stdout",
     "output_type": "stream",
     "text": [
      "number is prime\n"
     ]
    }
   ],
   "source": [
    "if (isPrime(47) == True) : print(\"number is prime\")"
   ]
  },
  {
   "cell_type": "code",
   "execution_count": 7,
   "metadata": {},
   "outputs": [
    {
     "name": "stdout",
     "output_type": "stream",
     "text": [
      "enter a number : 6\n",
      "7\n",
      "11\n",
      "13\n",
      "17\n",
      "19\n"
     ]
    }
   ],
   "source": [
    "#Printing the next 5 prime numbers\n",
    "number = int(input(\"enter a number : \"))\n",
    "numPrime = 1\n",
    "while numPrime <= 5:\n",
    "    number = number+1\n",
    "    if(isPrime(number) == True):\n",
    "        print(number)\n",
    "        numPrime = numPrime+1"
   ]
  },
  {
   "cell_type": "code",
   "execution_count": 8,
   "metadata": {},
   "outputs": [],
   "source": [
    "#Factorial of a number using default arguments\n",
    "def factorial(num=1):\n",
    "    count = 1\n",
    "    fact=1\n",
    "    while count <=num:\n",
    "        fact = count*fact\n",
    "        count = count+1\n",
    "    return(fact)"
   ]
  },
  {
   "cell_type": "code",
   "execution_count": 9,
   "metadata": {},
   "outputs": [
    {
     "data": {
      "text/plain": [
       "1"
      ]
     },
     "execution_count": 9,
     "metadata": {},
     "output_type": "execute_result"
    }
   ],
   "source": [
    "factorial()"
   ]
  },
  {
   "cell_type": "code",
   "execution_count": 10,
   "metadata": {},
   "outputs": [
    {
     "data": {
      "text/plain": [
       "120"
      ]
     },
     "execution_count": 10,
     "metadata": {},
     "output_type": "execute_result"
    }
   ],
   "source": [
    "factorial(5)"
   ]
  },
  {
   "cell_type": "code",
   "execution_count": 11,
   "metadata": {},
   "outputs": [],
   "source": [
    "#sorting using selection sort algortithm\n",
    "'''\n",
    "1. From the first element to the end of the list repeat the following steps\n",
    "   1a. First element is considered as minumim\n",
    "   1b. Check the first element with the remaining elements\n",
    "   1c. if you find any other element much lesser than the first element\n",
    "   1d. reassign minimum to that element\n",
    "2. interchange the first element with the minimum\n",
    "'''\n",
    "def SelectionSort(myList):\n",
    "    #From the first element to the end of the list\n",
    "    #repeat the following steps\n",
    "    for i in range(0,len(myList)):\n",
    "      #  First element is considered as minumim\n",
    "        minimum = i\n",
    "        #loop check the first elements with the remaining elements\n",
    "        for j in range(i+1,len(myList)):\n",
    "            #checking if other element is much lesser than the minimum\n",
    "            if myList[j] < myList[minimum]:\n",
    "                #reassigning minimum\n",
    "                minimum = j\n",
    "        #interchange the elements\n",
    "        myList[i],myList[minimum] = myList[minimum], myList[i]            \n",
    "    return(myList)"
   ]
  },
  {
   "cell_type": "code",
   "execution_count": 12,
   "metadata": {},
   "outputs": [
    {
     "name": "stdout",
     "output_type": "stream",
     "text": [
      "20 10\n"
     ]
    }
   ],
   "source": [
    "#interchange elements\n",
    "a=10\n",
    "b=20\n",
    "a,b = b,a\n",
    "print(a,b)"
   ]
  },
  {
   "cell_type": "code",
   "execution_count": 13,
   "metadata": {},
   "outputs": [
    {
     "name": "stdout",
     "output_type": "stream",
     "text": [
      "20 10\n"
     ]
    }
   ],
   "source": [
    "#another way to interchange elements\n",
    "a=10\n",
    "b=20\n",
    "temp=a\n",
    "a=b\n",
    "b=temp\n",
    "print(a,b)"
   ]
  },
  {
   "cell_type": "code",
   "execution_count": 14,
   "metadata": {},
   "outputs": [
    {
     "data": {
      "text/plain": [
       "[-3, 4, 5, 10, 20, 30]"
      ]
     },
     "execution_count": 14,
     "metadata": {},
     "output_type": "execute_result"
    }
   ],
   "source": [
    "mylist  = [ 10,20,30,5,4,-3]\n",
    "SelectionSort(mylist)"
   ]
  },
  {
   "cell_type": "code",
   "execution_count": 15,
   "metadata": {},
   "outputs": [],
   "source": [
    "def print_twice(a):\n",
    "    print(a)\n",
    "    print(a)"
   ]
  },
  {
   "cell_type": "code",
   "execution_count": 16,
   "metadata": {},
   "outputs": [
    {
     "name": "stdout",
     "output_type": "stream",
     "text": [
      "Spam\n",
      "Spam\n"
     ]
    }
   ],
   "source": [
    "print_twice('Spam')"
   ]
  },
  {
   "cell_type": "code",
   "execution_count": 17,
   "metadata": {},
   "outputs": [
    {
     "name": "stdout",
     "output_type": "stream",
     "text": [
      "aaaa\n",
      "40\n"
     ]
    }
   ],
   "source": [
    "print('a'*4)\n",
    "print(10*4)"
   ]
  },
  {
   "cell_type": "code",
   "execution_count": 18,
   "metadata": {},
   "outputs": [
    {
     "name": "stdout",
     "output_type": "stream",
     "text": [
      "Spam Spam Spam Spam \n",
      "Spam Spam Spam Spam \n"
     ]
    }
   ],
   "source": [
    "print_twice('Spam '*4)"
   ]
  },
  {
   "cell_type": "code",
   "execution_count": 19,
   "metadata": {},
   "outputs": [],
   "source": [
    "#Writing userdefined functions\n",
    "def replace_negative(val):\n",
    "    if val<0:\n",
    "        out = 0\n",
    "    else:\n",
    "        out = val\n",
    "    return out"
   ]
  },
  {
   "cell_type": "code",
   "execution_count": 20,
   "metadata": {},
   "outputs": [
    {
     "name": "stdout",
     "output_type": "stream",
     "text": [
      "0\n",
      "100\n"
     ]
    }
   ],
   "source": [
    "# testing the above function\n",
    "print(replace_negative(-19))\n",
    "print(replace_negative(100))"
   ]
  },
  {
   "cell_type": "code",
   "execution_count": 21,
   "metadata": {},
   "outputs": [
    {
     "name": "stdout",
     "output_type": "stream",
     "text": [
      "[0, 2, 0, 0, 75, 90, 80]\n"
     ]
    }
   ],
   "source": [
    "numList = [-5,2,-3,-100,75,90,80]\n",
    "for i in range(0,len(numList)):\n",
    "    numList[i]=replace_negative(numList[i])\n",
    "print(numList)"
   ]
  },
  {
   "cell_type": "code",
   "execution_count": 22,
   "metadata": {},
   "outputs": [
    {
     "name": "stdout",
     "output_type": "stream",
     "text": [
      "[0, 2, 0, 0, 75, 90, 80]\n"
     ]
    }
   ],
   "source": [
    "#using list comprehension\n",
    "numList = [0 if i<0 else i for i in numList]\n",
    "print(numList)"
   ]
  },
  {
   "cell_type": "markdown",
   "metadata": {},
   "source": [
    "## Lambdas, map, filter and reduce\n",
    "- We can use lambdas, map to replicate the functionality of list comprehension"
   ]
  },
  {
   "cell_type": "markdown",
   "metadata": {
    "collapsed": true
   },
   "source": [
    "## Lambdas, map\n",
    "- We can use lambdas, map to replicate the functionality of list comprehension"
   ]
  },
  {
   "cell_type": "code",
   "execution_count": 24,
   "metadata": {},
   "outputs": [],
   "source": [
    "def fahrenheit(T):\n",
    "    f=round(((float(9)/5)*T + 32),2)\n",
    "    return f"
   ]
  },
  {
   "cell_type": "code",
   "execution_count": 25,
   "metadata": {},
   "outputs": [
    {
     "name": "stdout",
     "output_type": "stream",
     "text": [
      "[97.7, 98.6, 99.5, 100.4, 102.2]\n"
     ]
    }
   ],
   "source": [
    "temperatures = [36.5, 37, 37.5, 38, 39]\n",
    "F = map(fahrenheit, temperatures)\n",
    "print(list(F))"
   ]
  },
  {
   "cell_type": "code",
   "execution_count": 26,
   "metadata": {},
   "outputs": [
    {
     "name": "stdout",
     "output_type": "stream",
     "text": [
      "[97.7, 98.6, 99.5, 100.4, 102.2]\n"
     ]
    }
   ],
   "source": [
    "temperatures = [36.5, 37, 37.5, 38, 39]\n",
    "F=[ round(((float(9)/5)*temp + 32),2) for temp in temperatures]\n",
    "print(F)"
   ]
  },
  {
   "cell_type": "code",
   "execution_count": 27,
   "metadata": {},
   "outputs": [
    {
     "name": "stdout",
     "output_type": "stream",
     "text": [
      "[97.7, 98.6, 99.5, 100.4, 102.2]\n"
     ]
    }
   ],
   "source": [
    "temperatures = [36.5, 37, 37.5, 38, 39]\n",
    "F = map(lambda T: round(((float(9)/5)*T + 32),2), temperatures)\n",
    "print(list(F))"
   ]
  },
  {
   "cell_type": "code",
   "execution_count": 28,
   "metadata": {},
   "outputs": [
    {
     "name": "stdout",
     "output_type": "stream",
     "text": [
      "<map object at 0x000001DB01A05208>\n",
      "[4, 16, 36, 64, 100]\n"
     ]
    }
   ],
   "source": [
    "nums = [2, 4, 6, 8, 10]\n",
    "result = map(lambda a: a ** 2, nums)\n",
    "print(result)\n",
    "print(list(result))"
   ]
  },
  {
   "cell_type": "code",
   "execution_count": 29,
   "metadata": {},
   "outputs": [
    {
     "data": {
      "text/plain": [
       "7"
      ]
     },
     "execution_count": 29,
     "metadata": {},
     "output_type": "execute_result"
    }
   ],
   "source": [
    "#Alternate way of defining lambda\n",
    "sum = lambda x, y : x + y\n",
    "sum(3,4)"
   ]
  },
  {
   "cell_type": "code",
   "execution_count": 30,
   "metadata": {},
   "outputs": [
    {
     "data": {
      "text/plain": [
       "[4, 16, 36, 64, 100]"
      ]
     },
     "execution_count": 30,
     "metadata": {},
     "output_type": "execute_result"
    }
   ],
   "source": [
    "[  a**2  for a in nums]"
   ]
  },
  {
   "cell_type": "code",
   "execution_count": 31,
   "metadata": {},
   "outputs": [
    {
     "name": "stdout",
     "output_type": "stream",
     "text": [
      "[2, 6, 8, 10]\n"
     ]
    }
   ],
   "source": [
    "lst = [2,3,5,6,8,7,9,10]\n",
    "result = filter(lambda i: i%2==0, lst)\n",
    "print(list(result))"
   ]
  },
  {
   "cell_type": "code",
   "execution_count": 32,
   "metadata": {},
   "outputs": [
    {
     "name": "stdout",
     "output_type": "stream",
     "text": [
      "[2, 6, 8, 10]\n"
     ]
    }
   ],
   "source": [
    "result = [i for i in lst if i%2 ==0]\n",
    "print(result)"
   ]
  },
  {
   "cell_type": "code",
   "execution_count": 33,
   "metadata": {},
   "outputs": [
    {
     "data": {
      "text/plain": [
       "[53, 59, 61, 67, 71, 73, 79, 83, 89, 97]"
      ]
     },
     "execution_count": 33,
     "metadata": {},
     "output_type": "execute_result"
    }
   ],
   "source": [
    "list(filter(isPrime,range(50,100)))"
   ]
  },
  {
   "cell_type": "code",
   "execution_count": 34,
   "metadata": {},
   "outputs": [],
   "source": [
    "num = [5,4,7,9,12,15,22,75,100,107]"
   ]
  },
  {
   "cell_type": "code",
   "execution_count": 35,
   "metadata": {},
   "outputs": [
    {
     "data": {
      "text/plain": [
       "[2, 3, 5, 7]"
      ]
     },
     "execution_count": 35,
     "metadata": {},
     "output_type": "execute_result"
    }
   ],
   "source": [
    "list(filter(isPrime,lst))"
   ]
  },
  {
   "cell_type": "code",
   "execution_count": 38,
   "metadata": {},
   "outputs": [],
   "source": [
    "#Assignment"
   ]
  },
  {
   "cell_type": "code",
   "execution_count": 37,
   "metadata": {},
   "outputs": [],
   "source": [
    "# 1. Form a list by dividing every element by 2"
   ]
  },
  {
   "cell_type": "code",
   "execution_count": 36,
   "metadata": {},
   "outputs": [
    {
     "data": {
      "text/plain": [
       "[2.5, 2.0, 3.5, 4.5, 6.0, 7.5, 11.0, 37.5, 50.0, 53.5]"
      ]
     },
     "execution_count": 36,
     "metadata": {},
     "output_type": "execute_result"
    }
   ],
   "source": [
    "list(map(lambda x:x/2,num))"
   ]
  },
  {
   "cell_type": "code",
   "execution_count": 39,
   "metadata": {},
   "outputs": [],
   "source": [
    "# 2. Form a list for all elements divisible by 5 "
   ]
  },
  {
   "cell_type": "code",
   "execution_count": 40,
   "metadata": {},
   "outputs": [
    {
     "data": {
      "text/plain": [
       "[5, 15, 75, 100]"
      ]
     },
     "execution_count": 40,
     "metadata": {},
     "output_type": "execute_result"
    }
   ],
   "source": [
    "list(filter(lambda x: x%5==0,num))"
   ]
  },
  {
   "cell_type": "code",
   "execution_count": 41,
   "metadata": {},
   "outputs": [],
   "source": [
    "#3. Form a  a list of all elements such that dividing even \n",
    "# numbers by 2 and odd numbers by 3"
   ]
  },
  {
   "cell_type": "code",
   "execution_count": 42,
   "metadata": {},
   "outputs": [
    {
     "data": {
      "text/plain": [
       "[1.67, 2.0, 2.33, 3.0, 6.0, 5.0, 11.0, 25.0, 50.0, 35.67]"
      ]
     },
     "execution_count": 42,
     "metadata": {},
     "output_type": "execute_result"
    }
   ],
   "source": [
    "list(map(lambda x: round(x/2,2) if x%2==0 else round(x/3,2),num))"
   ]
  },
  {
   "cell_type": "code",
   "execution_count": 43,
   "metadata": {},
   "outputs": [],
   "source": [
    "#4. For a list of all even numbers(only) by multiplying by itself"
   ]
  },
  {
   "cell_type": "code",
   "execution_count": 44,
   "metadata": {},
   "outputs": [
    {
     "data": {
      "text/plain": [
       "[16, 144, 484, 10000]"
      ]
     },
     "execution_count": 44,
     "metadata": {},
     "output_type": "execute_result"
    }
   ],
   "source": [
    "FilteredList = list(filter(lambda x:x%2==0,num))\n",
    "list(map(lambda x:x*x,FilteredList))"
   ]
  },
  {
   "cell_type": "code",
   "execution_count": 45,
   "metadata": {},
   "outputs": [],
   "source": [
    "#5. For all 3 digit number divide the numebr by 2"
   ]
  },
  {
   "cell_type": "code",
   "execution_count": 46,
   "metadata": {},
   "outputs": [
    {
     "data": {
      "text/plain": [
       "[50.0, 53.5]"
      ]
     },
     "execution_count": 46,
     "metadata": {},
     "output_type": "execute_result"
    }
   ],
   "source": [
    "ThreeDigitNum = list(filter(lambda x: len(str(x))==3,num))\n",
    "list(map(lambda x: round(x/2,2),ThreeDigitNum))"
   ]
  },
  {
   "cell_type": "markdown",
   "metadata": {},
   "source": [
    "# Some more examples on map and filter"
   ]
  },
  {
   "cell_type": "code",
   "execution_count": 47,
   "metadata": {},
   "outputs": [
    {
     "data": {
      "text/plain": [
       "[97.7, 98.6, 99.5, 100.4, 102.2]"
      ]
     },
     "execution_count": 47,
     "metadata": {},
     "output_type": "execute_result"
    }
   ],
   "source": [
    "## Convert a list of temperatures in celsius scale to fahrenheit\n",
    "temperatures = [36.5, 37, 37.5, 38, 39]\n",
    "[  round(((float(9)/5)*interVar + 32),2) for interVar in temperatures ]"
   ]
  },
  {
   "cell_type": "code",
   "execution_count": 48,
   "metadata": {},
   "outputs": [
    {
     "name": "stdout",
     "output_type": "stream",
     "text": [
      "[97.7, 98.6, 99.5, 100.4, 102.2]\n"
     ]
    }
   ],
   "source": [
    "temperatures = [36.5, 37, 37.5, 38, 39]\n",
    "F = map(lambda T: round(((float(9)/5)*T + 32),2), temperatures)\n",
    "print(list(F))"
   ]
  },
  {
   "cell_type": "code",
   "execution_count": 49,
   "metadata": {},
   "outputs": [],
   "source": [
    "### Lambdas, map\n",
    "mass=[45,55,65,76]\n",
    "ht=[1.65,1.70,1.55,1.80]\n",
    "#to find x/y**2 on all the elements\n",
    "bmi=map(lambda x,y:x/y**2,mass,ht)"
   ]
  },
  {
   "cell_type": "code",
   "execution_count": 50,
   "metadata": {},
   "outputs": [
    {
     "name": "stdout",
     "output_type": "stream",
     "text": [
      "[16.528925619834713, 19.031141868512112]\n"
     ]
    }
   ],
   "source": [
    "bmi_f=filter(lambda x:x<20,list(bmi))\n",
    "print(list(bmi_f))"
   ]
  },
  {
   "cell_type": "code",
   "execution_count": 51,
   "metadata": {
    "scrolled": true
   },
   "outputs": [
    {
     "name": "stdout",
     "output_type": "stream",
     "text": [
      "<class 'filter'>\n",
      "['Chennai', 'Kolkata']\n"
     ]
    }
   ],
   "source": [
    "# Filter\n",
    "Cities = ['Delhi', 'Pune', 'Chennai', 'Kolkata']\n",
    "\n",
    "# Use filter() to apply a lambda function over fellowship: result\n",
    "result = filter(lambda m: len(m) > 6, Cities)\n",
    "\n",
    "print(type(result))\n",
    "# Convert result to a list: result_list\n",
    "result_list = list(result)\n",
    "\n",
    "# Convert result into a list and print it\n",
    "print(result_list)\n"
   ]
  },
  {
   "cell_type": "markdown",
   "metadata": {},
   "source": [
    "## Reduce function - Takes a pair of elements and returns a single element which is put back to the list"
   ]
  },
  {
   "cell_type": "code",
   "execution_count": 52,
   "metadata": {},
   "outputs": [
    {
     "data": {
      "text/plain": [
       "150"
      ]
     },
     "execution_count": 52,
     "metadata": {},
     "output_type": "execute_result"
    }
   ],
   "source": [
    "from functools import reduce\n",
    "lst = [10,20,30,40,50]\n",
    "reduce(lambda x, y: x+y, lst)"
   ]
  },
  {
   "cell_type": "code",
   "execution_count": 53,
   "metadata": {},
   "outputs": [
    {
     "data": {
      "text/plain": [
       "102"
      ]
     },
     "execution_count": 53,
     "metadata": {},
     "output_type": "execute_result"
    }
   ],
   "source": [
    "reduce(lambda a,b: a if (a > b) else b, [47,11,42,102,13])"
   ]
  },
  {
   "cell_type": "code",
   "execution_count": 54,
   "metadata": {},
   "outputs": [
    {
     "data": {
      "text/plain": [
       "'\\n[47,11,42,102,13]\\n[47,42,102,13]\\n[47,102,13]\\n[102,13]\\n102\\n'"
      ]
     },
     "execution_count": 54,
     "metadata": {},
     "output_type": "execute_result"
    }
   ],
   "source": [
    "'''\n",
    "[47,11,42,102,13]\n",
    "[47,42,102,13]\n",
    "[47,102,13]\n",
    "[102,13]\n",
    "102\n",
    "'''"
   ]
  },
  {
   "cell_type": "code",
   "execution_count": 55,
   "metadata": {},
   "outputs": [],
   "source": [
    "#Selection sort using reduce"
   ]
  },
  {
   "cell_type": "code",
   "execution_count": 56,
   "metadata": {},
   "outputs": [
    {
     "name": "stdout",
     "output_type": "stream",
     "text": [
      "[11, 13, 42, 47, 102]\n"
     ]
    }
   ],
   "source": [
    "lst = [47,11,42,102,13]\n",
    "lst1 = []\n",
    "for i in range(0,len(lst)):\n",
    "    small=reduce(lambda a,b: a if (a < b) else b, lst)\n",
    "    lst1.append(small)\n",
    "    lst.remove(small)\n",
    "print(lst1)"
   ]
  },
  {
   "cell_type": "code",
   "execution_count": 57,
   "metadata": {},
   "outputs": [
    {
     "data": {
      "text/plain": [
       "120"
      ]
     },
     "execution_count": 57,
     "metadata": {},
     "output_type": "execute_result"
    }
   ],
   "source": [
    "#Reduce to multiply the elements of a list\n",
    "reduce(lambda a,b : a*b, range(1,6))"
   ]
  },
  {
   "cell_type": "code",
   "execution_count": 33,
   "metadata": {},
   "outputs": [
    {
     "name": "stdout",
     "output_type": "stream",
     "text": [
      "74.73333333333333\n",
      "[4190.4, 638.4, 50745.07, 1206.4, 611.74, 217.07, 217.07, 217.07, 217.07, 94.74, 94.74, 0.07, 389.4, 429.87, 59.8]\n",
      "3955.26\n"
     ]
    }
   ],
   "source": [
    "numList = [10,100,300,40,50,60,60,60,60,65,65,75,55,54,67]\n",
    "count = len(numList)\n",
    "Mean = (reduce(lambda a,b:a+b, numList))/count\n",
    "print(Mean)\n",
    "meanSquare = list(map(lambda a: round((a-Mean)**2,2),numList))\n",
    "print(meanSquare)\n",
    "Variance = round((reduce(lambda a,b:a+b,meanSquare))/count,2)\n",
    "print(Variance)"
   ]
  },
  {
   "cell_type": "code",
   "execution_count": 59,
   "metadata": {},
   "outputs": [
    {
     "name": "stdout",
     "output_type": "stream",
     "text": [
      "[18, 14, 14, 14]\n",
      "[17, 10, 19, 23]\n",
      "[19, 18, 9, 5]\n"
     ]
    }
   ],
   "source": [
    "a = [1,2,3,4]\n",
    "b = [17,12,11,10]\n",
    "c = [-1,-4,5,9]\n",
    "print(list(map(lambda x,y: x+y,a,b)))\n",
    "print(list(map(lambda x,y,z:x+y+z, a,b,c)))\n",
    "print(list(map(lambda x,y,z:x+y-z, a,b,c)))"
   ]
  }
 ],
 "metadata": {
  "kernelspec": {
   "display_name": "Python 3",
   "language": "python",
   "name": "python3"
  },
  "language_info": {
   "codemirror_mode": {
    "name": "ipython",
    "version": 3
   },
   "file_extension": ".py",
   "mimetype": "text/x-python",
   "name": "python",
   "nbconvert_exporter": "python",
   "pygments_lexer": "ipython3",
   "version": "3.6.5"
  }
 },
 "nbformat": 4,
 "nbformat_minor": 2
}
