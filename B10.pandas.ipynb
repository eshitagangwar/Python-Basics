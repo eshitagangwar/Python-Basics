{
 "cells": [
  {
   "cell_type": "markdown",
   "metadata": {},
   "source": [
    "# Python and Data Analysis (PANDAS)"
   ]
  },
  {
   "cell_type": "code",
   "execution_count": 1,
   "metadata": {},
   "outputs": [],
   "source": [
    "import pandas as pd\n",
    "import numpy as np"
   ]
  },
  {
   "cell_type": "code",
   "execution_count": 2,
   "metadata": {
    "scrolled": true
   },
   "outputs": [
    {
     "data": {
      "text/plain": [
       "0    4.0\n",
       "1    8.0\n",
       "2    8.1\n",
       "3   -4.0\n",
       "dtype: float64"
      ]
     },
     "execution_count": 2,
     "metadata": {},
     "output_type": "execute_result"
    }
   ],
   "source": [
    "pandas_series = pd.Series([4, 8, 8.1, -4])\n",
    "pandas_series"
   ]
  },
  {
   "cell_type": "code",
   "execution_count": 3,
   "metadata": {},
   "outputs": [
    {
     "data": {
      "text/plain": [
       "a    4.0\n",
       "c    8.0\n",
       "b    8.1\n",
       "d   -4.0\n",
       "dtype: float64"
      ]
     },
     "execution_count": 3,
     "metadata": {},
     "output_type": "execute_result"
    }
   ],
   "source": [
    "pandas_series = pd.Series([4, 8, 8.1, -4], index = [\"a\", \"c\", \"b\", \"d\"])\n",
    "pandas_series"
   ]
  },
  {
   "cell_type": "code",
   "execution_count": 4,
   "metadata": {},
   "outputs": [
    {
     "data": {
      "text/plain": [
       "8.1"
      ]
     },
     "execution_count": 4,
     "metadata": {},
     "output_type": "execute_result"
    }
   ],
   "source": [
    "pandas_series[2]"
   ]
  },
  {
   "cell_type": "code",
   "execution_count": 5,
   "metadata": {
    "scrolled": true
   },
   "outputs": [
    {
     "data": {
      "text/plain": [
       "a    4.0\n",
       "d   -4.0\n",
       "dtype: float64"
      ]
     },
     "execution_count": 5,
     "metadata": {},
     "output_type": "execute_result"
    }
   ],
   "source": [
    "pandas_series [pandas_series < 5 ]"
   ]
  },
  {
   "cell_type": "code",
   "execution_count": 6,
   "metadata": {},
   "outputs": [
    {
     "data": {
      "text/plain": [
       "a    4.0\n",
       "c    8.0\n",
       "b    8.1\n",
       "dtype: float64"
      ]
     },
     "execution_count": 6,
     "metadata": {},
     "output_type": "execute_result"
    }
   ],
   "source": [
    "pandas_series[pandas_series > 0]"
   ]
  },
  {
   "cell_type": "code",
   "execution_count": 7,
   "metadata": {},
   "outputs": [
    {
     "data": {
      "text/plain": [
       "a    [hi, hello]\n",
       "b            5.4\n",
       "c           -9.4\n",
       "d             12\n",
       "dtype: object"
      ]
     },
     "execution_count": 7,
     "metadata": {},
     "output_type": "execute_result"
    }
   ],
   "source": [
    "panda_series = pd.Series([[\"hi\",\"hello\"],5.4,-9.4,12],index = [\"a\",\"b\",\"c\",\"d\"])\n",
    "panda_series"
   ]
  },
  {
   "cell_type": "code",
   "execution_count": 10,
   "metadata": {},
   "outputs": [
    {
     "data": {
      "text/plain": [
       "['hi', 'Hello']"
      ]
     },
     "execution_count": 10,
     "metadata": {},
     "output_type": "execute_result"
    }
   ],
   "source": [
    "s.a"
   ]
  },
  {
   "cell_type": "code",
   "execution_count": 9,
   "metadata": {},
   "outputs": [
    {
     "name": "stdout",
     "output_type": "stream",
     "text": [
      "a        [hi, Hello]\n",
      "b    [5.4, 7.5, 6.2]\n",
      "c               -9.4\n",
      "d                 12\n",
      "dtype: object\n"
     ]
    }
   ],
   "source": [
    "#series from dictionary\n",
    "\n",
    "dictionary = {\"a\":[\"hi\",\"Hello\"],\"b\":[5.4,7.5,6.2],\"c\":-9.4,\"d\":12}\n",
    "s=pd.Series(dictionary)\n",
    "print(s)"
   ]
  },
  {
   "cell_type": "code",
   "execution_count": 11,
   "metadata": {
    "scrolled": true
   },
   "outputs": [
    {
     "data": {
      "text/html": [
       "<div>\n",
       "<style scoped>\n",
       "    .dataframe tbody tr th:only-of-type {\n",
       "        vertical-align: middle;\n",
       "    }\n",
       "\n",
       "    .dataframe tbody tr th {\n",
       "        vertical-align: top;\n",
       "    }\n",
       "\n",
       "    .dataframe thead th {\n",
       "        text-align: right;\n",
       "    }\n",
       "</style>\n",
       "<table border=\"1\" class=\"dataframe\">\n",
       "  <thead>\n",
       "    <tr style=\"text-align: right;\">\n",
       "      <th></th>\n",
       "      <th>date</th>\n",
       "      <th>global_temp</th>\n",
       "    </tr>\n",
       "  </thead>\n",
       "  <tbody>\n",
       "    <tr>\n",
       "      <th>0</th>\n",
       "      <td>December,2014</td>\n",
       "      <td>0.87</td>\n",
       "    </tr>\n",
       "    <tr>\n",
       "      <th>1</th>\n",
       "      <td>December, 2013</td>\n",
       "      <td>0.74</td>\n",
       "    </tr>\n",
       "    <tr>\n",
       "      <th>2</th>\n",
       "      <td>December, 2012</td>\n",
       "      <td>0.65</td>\n",
       "    </tr>\n",
       "    <tr>\n",
       "      <th>3</th>\n",
       "      <td>December,2011</td>\n",
       "      <td>0.63</td>\n",
       "    </tr>\n",
       "  </tbody>\n",
       "</table>\n",
       "</div>"
      ],
      "text/plain": [
       "             date  global_temp\n",
       "0   December,2014         0.87\n",
       "1  December, 2013         0.74\n",
       "2  December, 2012         0.65\n",
       "3   December,2011         0.63"
      ]
     },
     "execution_count": 11,
     "metadata": {},
     "output_type": "execute_result"
    }
   ],
   "source": [
    "data = {\"date\" : [ \"December,2014\", \"December, 2013\",\n",
    "                  \"December, 2012\",\"December,2011\"],\n",
    "        \"global_temp\": [0.87,0.74,0.65,0.63]\n",
    "       }\n",
    "dataframe = pd.DataFrame(data)\n",
    "dataframe"
   ]
  },
  {
   "cell_type": "code",
   "execution_count": 12,
   "metadata": {},
   "outputs": [
    {
     "data": {
      "text/html": [
       "<div>\n",
       "<style scoped>\n",
       "    .dataframe tbody tr th:only-of-type {\n",
       "        vertical-align: middle;\n",
       "    }\n",
       "\n",
       "    .dataframe tbody tr th {\n",
       "        vertical-align: top;\n",
       "    }\n",
       "\n",
       "    .dataframe thead th {\n",
       "        text-align: right;\n",
       "    }\n",
       "</style>\n",
       "<table border=\"1\" class=\"dataframe\">\n",
       "  <thead>\n",
       "    <tr style=\"text-align: right;\">\n",
       "      <th></th>\n",
       "      <th>global_temp</th>\n",
       "      <th>date</th>\n",
       "    </tr>\n",
       "  </thead>\n",
       "  <tbody>\n",
       "    <tr>\n",
       "      <th>0</th>\n",
       "      <td>0.87</td>\n",
       "      <td>December,2014</td>\n",
       "    </tr>\n",
       "    <tr>\n",
       "      <th>1</th>\n",
       "      <td>0.74</td>\n",
       "      <td>December, 2013</td>\n",
       "    </tr>\n",
       "    <tr>\n",
       "      <th>2</th>\n",
       "      <td>0.65</td>\n",
       "      <td>December, 2012</td>\n",
       "    </tr>\n",
       "    <tr>\n",
       "      <th>3</th>\n",
       "      <td>0.63</td>\n",
       "      <td>December,2011</td>\n",
       "    </tr>\n",
       "  </tbody>\n",
       "</table>\n",
       "</div>"
      ],
      "text/plain": [
       "   global_temp            date\n",
       "0         0.87   December,2014\n",
       "1         0.74  December, 2013\n",
       "2         0.65  December, 2012\n",
       "3         0.63   December,2011"
      ]
     },
     "execution_count": 12,
     "metadata": {},
     "output_type": "execute_result"
    }
   ],
   "source": [
    "pd.DataFrame(dataframe,columns = [\"global_temp\",\"date\"])"
   ]
  },
  {
   "cell_type": "code",
   "execution_count": 13,
   "metadata": {},
   "outputs": [
    {
     "name": "stdout",
     "output_type": "stream",
     "text": [
      "0     December,2014\n",
      "1    December, 2013\n",
      "2    December, 2012\n",
      "3     December,2011\n",
      "Name: date, dtype: object\n",
      "0     December,2014\n",
      "1    December, 2013\n",
      "2    December, 2012\n",
      "3     December,2011\n",
      "Name: date, dtype: object\n"
     ]
    }
   ],
   "source": [
    "print(dataframe.date)\n",
    "print(dataframe['date'])"
   ]
  },
  {
   "cell_type": "code",
   "execution_count": 14,
   "metadata": {},
   "outputs": [
    {
     "data": {
      "text/plain": [
       "array(['December,2014', 'December, 2013', 'December, 2012',\n",
       "       'December,2011'], dtype=object)"
      ]
     },
     "execution_count": 14,
     "metadata": {},
     "output_type": "execute_result"
    }
   ],
   "source": [
    "dataframe['date'].values"
   ]
  },
  {
   "cell_type": "code",
   "execution_count": 15,
   "metadata": {},
   "outputs": [],
   "source": [
    "#Dataframe : viewing Data.\n",
    "\n",
    "dataframe = pd.DataFrame(np.random.randn(20, 5), \n",
    "                         columns = ['A', 'B', 'C', 'D', 'E'])"
   ]
  },
  {
   "cell_type": "code",
   "execution_count": 16,
   "metadata": {
    "scrolled": false
   },
   "outputs": [
    {
     "name": "stdout",
     "output_type": "stream",
     "text": [
      "          A         B         C         D         E\n",
      "0 -0.059899  1.969307  1.321773 -0.149233  0.282040\n",
      "1  0.236946 -1.523047  1.117941 -0.242566  0.178918\n",
      "2 -0.805368  0.247581 -0.477033 -0.654098  2.015969\n",
      "3 -0.153289  1.035854  0.512673  0.207163  1.905335\n",
      "4  0.478484 -0.306322  0.315322  0.591138 -1.099691\n"
     ]
    }
   ],
   "source": [
    "print(dataframe.head())"
   ]
  },
  {
   "cell_type": "code",
   "execution_count": 17,
   "metadata": {},
   "outputs": [
    {
     "name": "stdout",
     "output_type": "stream",
     "text": [
      "           A         B         C       D         E\n",
      "18 -0.322990 -1.378364 -1.313343  1.3154 -0.465625\n",
      "19 -0.239615  2.248094  0.093851  0.0035 -0.368076\n"
     ]
    }
   ],
   "source": [
    "print(dataframe.tail(n = 2))"
   ]
  },
  {
   "cell_type": "code",
   "execution_count": 18,
   "metadata": {},
   "outputs": [
    {
     "name": "stdout",
     "output_type": "stream",
     "text": [
      "               A          B          C          D          E\n",
      "count  20.000000  20.000000  20.000000  20.000000  20.000000\n",
      "mean   -0.240421  -0.159263  -0.025116  -0.346480  -0.011249\n",
      "std     0.691417   1.063424   1.073901   0.872568   1.100872\n",
      "min    -1.787332  -1.789426  -2.075982  -1.683991  -2.569045\n",
      "25%    -0.448158  -0.822646  -0.801517  -1.094937  -0.468084\n",
      "50%    -0.151917  -0.326088   0.084712  -0.195900  -0.143041\n",
      "75%     0.224696   0.266620   0.922726   0.223077   0.297711\n",
      "max     0.950525   2.248094   1.613788   1.315400   2.015969\n"
     ]
    }
   ],
   "source": [
    "print(dataframe.describe())"
   ]
  },
  {
   "cell_type": "code",
   "execution_count": 19,
   "metadata": {
    "scrolled": true
   },
   "outputs": [
    {
     "name": "stdout",
     "output_type": "stream",
     "text": [
      "           A         B         C         D         E\n",
      "7  -0.648413  0.983352 -2.075982 -1.683991 -0.250321\n",
      "16 -0.266420 -1.789426 -1.633918 -0.093590 -0.475459\n",
      "6   0.950525 -0.433598 -1.324452 -1.514852  0.158135\n",
      "18 -0.322990 -1.378364 -1.313343  1.315400 -0.465625\n",
      "14 -1.787332 -0.473264 -1.127138 -1.237147 -0.796048\n"
     ]
    }
   ],
   "source": [
    "print(dataframe.sort_values(by='C').head())"
   ]
  },
  {
   "cell_type": "code",
   "execution_count": 20,
   "metadata": {
    "scrolled": false
   },
   "outputs": [
    {
     "name": "stdout",
     "output_type": "stream",
     "text": [
      "           A         B         C         D         E\n",
      "19 -0.239615  2.248094  0.093851  0.003500 -0.368076\n",
      "18 -0.322990 -1.378364 -1.313343  1.315400 -0.465625\n",
      "17  0.220613 -0.298211  0.919894 -1.634444  1.990665\n",
      "16 -0.266420 -1.789426 -1.633918 -0.093590 -0.475459\n",
      "15 -0.150544 -0.820169  0.296801  0.036651 -2.569045\n"
     ]
    }
   ],
   "source": [
    "print(dataframe.sort_index(ascending = False).head())"
   ]
  },
  {
   "cell_type": "code",
   "execution_count": 21,
   "metadata": {
    "scrolled": false
   },
   "outputs": [
    {
     "name": "stdout",
     "output_type": "stream",
     "text": [
      "0   -0.059899\n",
      "1    0.236946\n",
      "2   -0.805368\n",
      "3   -0.153289\n",
      "4    0.478484\n",
      "Name: A, dtype: float64\n"
     ]
    }
   ],
   "source": [
    "print(dataframe['A'].head())"
   ]
  },
  {
   "cell_type": "code",
   "execution_count": 22,
   "metadata": {
    "scrolled": false
   },
   "outputs": [
    {
     "name": "stdout",
     "output_type": "stream",
     "text": [
      "          A         B         C         D         E\n",
      "1  0.236946 -1.523047  1.117941 -0.242566  0.178918\n",
      "2 -0.805368  0.247581 -0.477033 -0.654098  2.015969\n",
      "3 -0.153289  1.035854  0.512673  0.207163  1.905335\n"
     ]
    }
   ],
   "source": [
    "print(dataframe[1:4])"
   ]
  },
  {
   "cell_type": "code",
   "execution_count": 23,
   "metadata": {},
   "outputs": [
    {
     "name": "stdout",
     "output_type": "stream",
     "text": [
      "          A         B         C\n",
      "0 -0.059899  1.969307  1.321773\n",
      "1  0.236946 -1.523047  1.117941\n",
      "2 -0.805368  0.247581 -0.477033\n",
      "3 -0.153289  1.035854  0.512673\n"
     ]
    }
   ],
   "source": [
    "#Print first 4 rows of columns A, B, c\n",
    "print(dataframe[0:4][['A','B','C']])"
   ]
  },
  {
   "cell_type": "code",
   "execution_count": 24,
   "metadata": {},
   "outputs": [
    {
     "name": "stdout",
     "output_type": "stream",
     "text": [
      "          A         B\n",
      "0 -0.059899  1.969307\n",
      "1  0.236946 -1.523047\n",
      "2 -0.805368  0.247581\n",
      "3 -0.153289  1.035854\n",
      "4  0.478484 -0.306322\n"
     ]
    }
   ],
   "source": [
    "print(dataframe[['A', 'B']].head())"
   ]
  },
  {
   "cell_type": "code",
   "execution_count": 25,
   "metadata": {},
   "outputs": [
    {
     "name": "stdout",
     "output_type": "stream",
     "text": [
      "    A   B    C\n",
      "aa  4  10  100\n",
      "aa  5  20   50\n",
      "bb  6  30  -30\n",
      "cc  7  40  -50\n"
     ]
    }
   ],
   "source": [
    "#loc, iloc & ix\n",
    "df = pd.DataFrame({'A' : [4,5,6,7],\n",
    "                   'B' : [10,20,30,40],\n",
    "                   'C' : [100,50,-30,-50]})\n",
    "df.index = ['aa', 'aa', 'bb', 'cc']\n",
    "print(df)"
   ]
  },
  {
   "cell_type": "code",
   "execution_count": 26,
   "metadata": {},
   "outputs": [
    {
     "name": "stdout",
     "output_type": "stream",
     "text": [
      "    A   B    C\n",
      "aa  4  10  100\n",
      "aa  5  20   50\n",
      "    A   B    C\n",
      "aa  4  10  100\n",
      "aa  5  20   50\n",
      "bb  6  30  -30\n"
     ]
    }
   ],
   "source": [
    "# label based indexing. \n",
    "# loc[label of the row as a list , label of the column as a list]\n",
    "print(df.loc['aa'])\n",
    "\n",
    "#to print the rows indexed as aa and bb\n",
    "print(df.loc[['aa','bb']])          "
   ]
  },
  {
   "cell_type": "code",
   "execution_count": 27,
   "metadata": {},
   "outputs": [
    {
     "name": "stdout",
     "output_type": "stream",
     "text": [
      "    A   B\n",
      "aa  4  10\n",
      "aa  5  20\n"
     ]
    }
   ],
   "source": [
    "print(df.loc['aa', ['A', 'B']])"
   ]
  },
  {
   "cell_type": "code",
   "execution_count": 29,
   "metadata": {},
   "outputs": [
    {
     "name": "stdout",
     "output_type": "stream",
     "text": [
      "    A   B    C\n",
      "aa  4  10  100\n",
      "aa  5  20   50\n",
      "bb  6  30  -30\n"
     ]
    }
   ],
   "source": [
    "# positional indexing\n",
    "print(df.iloc[0:3])"
   ]
  },
  {
   "cell_type": "code",
   "execution_count": 30,
   "metadata": {},
   "outputs": [
    {
     "name": "stdout",
     "output_type": "stream",
     "text": [
      "A     6\n",
      "B    30\n",
      "Name: bb, dtype: int64\n"
     ]
    }
   ],
   "source": [
    "print(df.iloc[2, [0, 1]])"
   ]
  },
  {
   "cell_type": "code",
   "execution_count": 31,
   "metadata": {},
   "outputs": [
    {
     "name": "stderr",
     "output_type": "stream",
     "text": [
      "C:\\Users\\hp\\Anaconda3\\lib\\site-packages\\ipykernel_launcher.py:1: DeprecationWarning: \n",
      ".ix is deprecated. Please use\n",
      ".loc for label based indexing or\n",
      ".iloc for positional indexing\n",
      "\n",
      "See the documentation here:\n",
      "http://pandas.pydata.org/pandas-docs/stable/indexing.html#ix-indexer-is-deprecated\n",
      "  \"\"\"Entry point for launching an IPython kernel.\n"
     ]
    },
    {
     "data": {
      "text/plain": [
       "5"
      ]
     },
     "execution_count": 31,
     "metadata": {},
     "output_type": "execute_result"
    }
   ],
   "source": [
    " df.ix[1, 'A']"
   ]
  },
  {
   "cell_type": "code",
   "execution_count": 32,
   "metadata": {},
   "outputs": [
    {
     "name": "stdout",
     "output_type": "stream",
     "text": [
      "    A   B    C\n",
      "aa  4  10  100\n",
      "aa  5  20   50\n"
     ]
    },
    {
     "name": "stderr",
     "output_type": "stream",
     "text": [
      "C:\\Users\\hp\\Anaconda3\\lib\\site-packages\\ipykernel_launcher.py:1: DeprecationWarning: \n",
      ".ix is deprecated. Please use\n",
      ".loc for label based indexing or\n",
      ".iloc for positional indexing\n",
      "\n",
      "See the documentation here:\n",
      "http://pandas.pydata.org/pandas-docs/stable/indexing.html#ix-indexer-is-deprecated\n",
      "  \"\"\"Entry point for launching an IPython kernel.\n"
     ]
    }
   ],
   "source": [
    "print(df.ix['aa', :3])"
   ]
  },
  {
   "cell_type": "code",
   "execution_count": 33,
   "metadata": {},
   "outputs": [
    {
     "name": "stdout",
     "output_type": "stream",
     "text": [
      "           A         B         C         D         E\n",
      "0  -0.059899  1.969307  1.321773 -0.149233  0.282040\n",
      "1   0.236946 -1.523047  1.117941 -0.242566  0.178918\n",
      "2  -0.805368  0.247581 -0.477033 -0.654098  2.015969\n",
      "3  -0.153289  1.035854  0.512673  0.207163  1.905335\n",
      "4   0.478484 -0.306322  0.315322  0.591138 -1.099691\n",
      "5   0.431061 -0.345853  0.931221 -1.122978 -0.155279\n",
      "6   0.950525 -0.433598 -1.324452 -1.514852  0.158135\n",
      "7  -0.648413  0.983352 -2.075982 -1.683991 -0.250321\n",
      "8   0.058929 -0.040843  1.270190 -0.829869 -0.441842\n",
      "9   0.328467 -0.909615 -0.307896 -0.670235  0.572819\n",
      "10 -1.764445 -0.715819 -0.692977  0.878199 -0.130804\n",
      "11  0.014794 -0.830078  1.613788  0.270817  0.261589\n",
      "12 -0.948508  0.323736  0.075574  0.686132  0.344723\n",
      "13 -0.381407 -0.128566 -0.018604 -1.085590 -1.182974\n",
      "14 -1.787332 -0.473264 -1.127138 -1.237147 -0.796048\n",
      "15 -0.150544 -0.820169  0.296801  0.036651 -2.569045\n",
      "16 -0.266420 -1.789426 -1.633918 -0.093590 -0.475459\n",
      "17  0.220613 -0.298211  0.919894 -1.634444  1.990665\n",
      "18 -0.322990 -1.378364 -1.313343  1.315400 -0.465625\n",
      "19 -0.239615  2.248094  0.093851  0.003500 -0.368076\n"
     ]
    }
   ],
   "source": [
    "print(dataframe)"
   ]
  },
  {
   "cell_type": "code",
   "execution_count": 34,
   "metadata": {},
   "outputs": [
    {
     "name": "stdout",
     "output_type": "stream",
     "text": [
      "          A         B         D\n",
      "1  0.236946 -1.523047 -0.242566\n",
      "3 -0.153289  1.035854  0.207163\n",
      "5  0.431061 -0.345853 -1.122978\n",
      "7 -0.648413  0.983352 -1.683991\n"
     ]
    },
    {
     "name": "stderr",
     "output_type": "stream",
     "text": [
      "C:\\Users\\hp\\Anaconda3\\lib\\site-packages\\ipykernel_launcher.py:2: DeprecationWarning: \n",
      ".ix is deprecated. Please use\n",
      ".loc for label based indexing or\n",
      ".iloc for positional indexing\n",
      "\n",
      "See the documentation here:\n",
      "http://pandas.pydata.org/pandas-docs/stable/indexing.html#ix-indexer-is-deprecated\n",
      "  \n"
     ]
    }
   ],
   "source": [
    "#print 1,3,5,7 rows of columns A, B and D\n",
    "print(dataframe.ix[[1,3,5,7],['A','B','D']])"
   ]
  },
  {
   "cell_type": "code",
   "execution_count": 35,
   "metadata": {},
   "outputs": [
    {
     "data": {
      "text/html": [
       "<div>\n",
       "<style scoped>\n",
       "    .dataframe tbody tr th:only-of-type {\n",
       "        vertical-align: middle;\n",
       "    }\n",
       "\n",
       "    .dataframe tbody tr th {\n",
       "        vertical-align: top;\n",
       "    }\n",
       "\n",
       "    .dataframe thead th {\n",
       "        text-align: right;\n",
       "    }\n",
       "</style>\n",
       "<table border=\"1\" class=\"dataframe\">\n",
       "  <thead>\n",
       "    <tr style=\"text-align: right;\">\n",
       "      <th></th>\n",
       "      <th>A</th>\n",
       "      <th>B</th>\n",
       "    </tr>\n",
       "  </thead>\n",
       "  <tbody>\n",
       "    <tr>\n",
       "      <th>aa</th>\n",
       "      <td>5</td>\n",
       "      <td>20</td>\n",
       "    </tr>\n",
       "    <tr>\n",
       "      <th>bb</th>\n",
       "      <td>6</td>\n",
       "      <td>30</td>\n",
       "    </tr>\n",
       "    <tr>\n",
       "      <th>cc</th>\n",
       "      <td>7</td>\n",
       "      <td>40</td>\n",
       "    </tr>\n",
       "  </tbody>\n",
       "</table>\n",
       "</div>"
      ],
      "text/plain": [
       "    A   B\n",
       "aa  5  20\n",
       "bb  6  30\n",
       "cc  7  40"
      ]
     },
     "execution_count": 35,
     "metadata": {},
     "output_type": "execute_result"
    }
   ],
   "source": [
    "# Fetch A and B columns of the df for all A values >= 5\n",
    "df[df.A>=5][['A','B']] # or df[df[A]>=5][['A','B']] "
   ]
  },
  {
   "cell_type": "code",
   "execution_count": 36,
   "metadata": {},
   "outputs": [
    {
     "data": {
      "text/html": [
       "<div>\n",
       "<style scoped>\n",
       "    .dataframe tbody tr th:only-of-type {\n",
       "        vertical-align: middle;\n",
       "    }\n",
       "\n",
       "    .dataframe tbody tr th {\n",
       "        vertical-align: top;\n",
       "    }\n",
       "\n",
       "    .dataframe thead th {\n",
       "        text-align: right;\n",
       "    }\n",
       "</style>\n",
       "<table border=\"1\" class=\"dataframe\">\n",
       "  <thead>\n",
       "    <tr style=\"text-align: right;\">\n",
       "      <th></th>\n",
       "      <th>A</th>\n",
       "      <th>B</th>\n",
       "    </tr>\n",
       "  </thead>\n",
       "  <tbody>\n",
       "    <tr>\n",
       "      <th>bb</th>\n",
       "      <td>6</td>\n",
       "      <td>30</td>\n",
       "    </tr>\n",
       "    <tr>\n",
       "      <th>cc</th>\n",
       "      <td>7</td>\n",
       "      <td>40</td>\n",
       "    </tr>\n",
       "  </tbody>\n",
       "</table>\n",
       "</div>"
      ],
      "text/plain": [
       "    A   B\n",
       "bb  6  30\n",
       "cc  7  40"
      ]
     },
     "execution_count": 36,
     "metadata": {},
     "output_type": "execute_result"
    }
   ],
   "source": [
    "# Print all A vlaues and B Values for which A>=5 and B>20\n",
    "df[(df.A>=5) & (df.B>20)][['A','B']] # or df[df[A]>=5][['A','B']] "
   ]
  },
  {
   "cell_type": "code",
   "execution_count": 37,
   "metadata": {},
   "outputs": [],
   "source": [
    "# merging datasets"
   ]
  },
  {
   "cell_type": "code",
   "execution_count": 38,
   "metadata": {},
   "outputs": [
    {
     "name": "stdout",
     "output_type": "stream",
     "text": [
      "df1: \n",
      "  key  val1\n",
      "0   a     1\n",
      "1   b     2\n",
      "2   e     9\n",
      "3   f    10\n",
      "df2\n",
      "  key  val2\n",
      "0   a     4\n",
      "1   b     5\n",
      "2   c     6\n",
      "3   d     7\n"
     ]
    }
   ],
   "source": [
    "df1  = pd.DataFrame({'key': ['a', 'b','e','f'], 'val1': [1, 2,9,10]})\n",
    "df2 = pd.DataFrame({'key': ['a', 'b','c','d'], 'val2': [4, 5,6,7]})\n",
    "\n",
    "print(\"df1: \")\n",
    "print(df1)\n",
    "\n",
    "print(\"df2\")\n",
    "print(df2)"
   ]
  },
  {
   "cell_type": "code",
   "execution_count": 39,
   "metadata": {},
   "outputs": [
    {
     "name": "stdout",
     "output_type": "stream",
     "text": [
      "  key  val1  val2\n",
      "0   a     1     4\n",
      "1   b     2     5\n"
     ]
    }
   ],
   "source": [
    "print(pd.merge(df1, df2, on = 'key'))"
   ]
  },
  {
   "cell_type": "code",
   "execution_count": 40,
   "metadata": {},
   "outputs": [
    {
     "data": {
      "text/html": [
       "<div>\n",
       "<style scoped>\n",
       "    .dataframe tbody tr th:only-of-type {\n",
       "        vertical-align: middle;\n",
       "    }\n",
       "\n",
       "    .dataframe tbody tr th {\n",
       "        vertical-align: top;\n",
       "    }\n",
       "\n",
       "    .dataframe thead th {\n",
       "        text-align: right;\n",
       "    }\n",
       "</style>\n",
       "<table border=\"1\" class=\"dataframe\">\n",
       "  <thead>\n",
       "    <tr style=\"text-align: right;\">\n",
       "      <th></th>\n",
       "      <th>key</th>\n",
       "      <th>val1</th>\n",
       "      <th>val2</th>\n",
       "    </tr>\n",
       "  </thead>\n",
       "  <tbody>\n",
       "    <tr>\n",
       "      <th>0</th>\n",
       "      <td>a</td>\n",
       "      <td>1.0</td>\n",
       "      <td>4.0</td>\n",
       "    </tr>\n",
       "    <tr>\n",
       "      <th>1</th>\n",
       "      <td>b</td>\n",
       "      <td>2.0</td>\n",
       "      <td>5.0</td>\n",
       "    </tr>\n",
       "    <tr>\n",
       "      <th>2</th>\n",
       "      <td>e</td>\n",
       "      <td>9.0</td>\n",
       "      <td>NaN</td>\n",
       "    </tr>\n",
       "    <tr>\n",
       "      <th>3</th>\n",
       "      <td>f</td>\n",
       "      <td>10.0</td>\n",
       "      <td>NaN</td>\n",
       "    </tr>\n",
       "    <tr>\n",
       "      <th>4</th>\n",
       "      <td>c</td>\n",
       "      <td>NaN</td>\n",
       "      <td>6.0</td>\n",
       "    </tr>\n",
       "    <tr>\n",
       "      <th>5</th>\n",
       "      <td>d</td>\n",
       "      <td>NaN</td>\n",
       "      <td>7.0</td>\n",
       "    </tr>\n",
       "  </tbody>\n",
       "</table>\n",
       "</div>"
      ],
      "text/plain": [
       "  key  val1  val2\n",
       "0   a   1.0   4.0\n",
       "1   b   2.0   5.0\n",
       "2   e   9.0   NaN\n",
       "3   f  10.0   NaN\n",
       "4   c   NaN   6.0\n",
       "5   d   NaN   7.0"
      ]
     },
     "execution_count": 40,
     "metadata": {},
     "output_type": "execute_result"
    }
   ],
   "source": [
    "pd.merge(df1,df2, left_on='key', right_on='key', how='outer')"
   ]
  },
  {
   "cell_type": "code",
   "execution_count": 41,
   "metadata": {},
   "outputs": [
    {
     "data": {
      "text/html": [
       "<div>\n",
       "<style scoped>\n",
       "    .dataframe tbody tr th:only-of-type {\n",
       "        vertical-align: middle;\n",
       "    }\n",
       "\n",
       "    .dataframe tbody tr th {\n",
       "        vertical-align: top;\n",
       "    }\n",
       "\n",
       "    .dataframe thead th {\n",
       "        text-align: right;\n",
       "    }\n",
       "</style>\n",
       "<table border=\"1\" class=\"dataframe\">\n",
       "  <thead>\n",
       "    <tr style=\"text-align: right;\">\n",
       "      <th></th>\n",
       "      <th>key</th>\n",
       "      <th>val1</th>\n",
       "      <th>val2</th>\n",
       "    </tr>\n",
       "  </thead>\n",
       "  <tbody>\n",
       "    <tr>\n",
       "      <th>0</th>\n",
       "      <td>a</td>\n",
       "      <td>1</td>\n",
       "      <td>4.0</td>\n",
       "    </tr>\n",
       "    <tr>\n",
       "      <th>1</th>\n",
       "      <td>b</td>\n",
       "      <td>2</td>\n",
       "      <td>5.0</td>\n",
       "    </tr>\n",
       "    <tr>\n",
       "      <th>2</th>\n",
       "      <td>e</td>\n",
       "      <td>9</td>\n",
       "      <td>NaN</td>\n",
       "    </tr>\n",
       "    <tr>\n",
       "      <th>3</th>\n",
       "      <td>f</td>\n",
       "      <td>10</td>\n",
       "      <td>NaN</td>\n",
       "    </tr>\n",
       "  </tbody>\n",
       "</table>\n",
       "</div>"
      ],
      "text/plain": [
       "  key  val1  val2\n",
       "0   a     1   4.0\n",
       "1   b     2   5.0\n",
       "2   e     9   NaN\n",
       "3   f    10   NaN"
      ]
     },
     "execution_count": 41,
     "metadata": {},
     "output_type": "execute_result"
    }
   ],
   "source": [
    "pd.merge(df1,df2, left_on='key', right_on='key', how='left')"
   ]
  },
  {
   "cell_type": "code",
   "execution_count": 42,
   "metadata": {},
   "outputs": [
    {
     "data": {
      "text/html": [
       "<div>\n",
       "<style scoped>\n",
       "    .dataframe tbody tr th:only-of-type {\n",
       "        vertical-align: middle;\n",
       "    }\n",
       "\n",
       "    .dataframe tbody tr th {\n",
       "        vertical-align: top;\n",
       "    }\n",
       "\n",
       "    .dataframe thead th {\n",
       "        text-align: right;\n",
       "    }\n",
       "</style>\n",
       "<table border=\"1\" class=\"dataframe\">\n",
       "  <thead>\n",
       "    <tr style=\"text-align: right;\">\n",
       "      <th></th>\n",
       "      <th>key</th>\n",
       "      <th>val1</th>\n",
       "      <th>val2</th>\n",
       "    </tr>\n",
       "  </thead>\n",
       "  <tbody>\n",
       "    <tr>\n",
       "      <th>0</th>\n",
       "      <td>a</td>\n",
       "      <td>1.0</td>\n",
       "      <td>4</td>\n",
       "    </tr>\n",
       "    <tr>\n",
       "      <th>1</th>\n",
       "      <td>b</td>\n",
       "      <td>2.0</td>\n",
       "      <td>5</td>\n",
       "    </tr>\n",
       "    <tr>\n",
       "      <th>2</th>\n",
       "      <td>c</td>\n",
       "      <td>NaN</td>\n",
       "      <td>6</td>\n",
       "    </tr>\n",
       "    <tr>\n",
       "      <th>3</th>\n",
       "      <td>d</td>\n",
       "      <td>NaN</td>\n",
       "      <td>7</td>\n",
       "    </tr>\n",
       "  </tbody>\n",
       "</table>\n",
       "</div>"
      ],
      "text/plain": [
       "  key  val1  val2\n",
       "0   a   1.0     4\n",
       "1   b   2.0     5\n",
       "2   c   NaN     6\n",
       "3   d   NaN     7"
      ]
     },
     "execution_count": 42,
     "metadata": {},
     "output_type": "execute_result"
    }
   ],
   "source": [
    "pd.merge(df1,df2, left_on='key', right_on='key', how='right')"
   ]
  },
  {
   "cell_type": "code",
   "execution_count": 43,
   "metadata": {},
   "outputs": [
    {
     "name": "stderr",
     "output_type": "stream",
     "text": [
      "C:\\Users\\hp\\Anaconda3\\lib\\site-packages\\ipykernel_launcher.py:1: FutureWarning: Sorting because non-concatenation axis is not aligned. A future version\n",
      "of pandas will change to not sort by default.\n",
      "\n",
      "To accept the future behavior, pass 'sort=True'.\n",
      "\n",
      "To retain the current behavior and silence the warning, pass sort=False\n",
      "\n",
      "  \"\"\"Entry point for launching an IPython kernel.\n"
     ]
    },
    {
     "data": {
      "text/html": [
       "<div>\n",
       "<style scoped>\n",
       "    .dataframe tbody tr th:only-of-type {\n",
       "        vertical-align: middle;\n",
       "    }\n",
       "\n",
       "    .dataframe tbody tr th {\n",
       "        vertical-align: top;\n",
       "    }\n",
       "\n",
       "    .dataframe thead th {\n",
       "        text-align: right;\n",
       "    }\n",
       "</style>\n",
       "<table border=\"1\" class=\"dataframe\">\n",
       "  <thead>\n",
       "    <tr style=\"text-align: right;\">\n",
       "      <th></th>\n",
       "      <th>key</th>\n",
       "      <th>val1</th>\n",
       "      <th>val2</th>\n",
       "    </tr>\n",
       "  </thead>\n",
       "  <tbody>\n",
       "    <tr>\n",
       "      <th>0</th>\n",
       "      <td>a</td>\n",
       "      <td>1.0</td>\n",
       "      <td>NaN</td>\n",
       "    </tr>\n",
       "    <tr>\n",
       "      <th>1</th>\n",
       "      <td>b</td>\n",
       "      <td>2.0</td>\n",
       "      <td>NaN</td>\n",
       "    </tr>\n",
       "    <tr>\n",
       "      <th>2</th>\n",
       "      <td>e</td>\n",
       "      <td>9.0</td>\n",
       "      <td>NaN</td>\n",
       "    </tr>\n",
       "    <tr>\n",
       "      <th>3</th>\n",
       "      <td>f</td>\n",
       "      <td>10.0</td>\n",
       "      <td>NaN</td>\n",
       "    </tr>\n",
       "    <tr>\n",
       "      <th>0</th>\n",
       "      <td>a</td>\n",
       "      <td>NaN</td>\n",
       "      <td>4.0</td>\n",
       "    </tr>\n",
       "    <tr>\n",
       "      <th>1</th>\n",
       "      <td>b</td>\n",
       "      <td>NaN</td>\n",
       "      <td>5.0</td>\n",
       "    </tr>\n",
       "    <tr>\n",
       "      <th>2</th>\n",
       "      <td>c</td>\n",
       "      <td>NaN</td>\n",
       "      <td>6.0</td>\n",
       "    </tr>\n",
       "    <tr>\n",
       "      <th>3</th>\n",
       "      <td>d</td>\n",
       "      <td>NaN</td>\n",
       "      <td>7.0</td>\n",
       "    </tr>\n",
       "  </tbody>\n",
       "</table>\n",
       "</div>"
      ],
      "text/plain": [
       "  key  val1  val2\n",
       "0   a   1.0   NaN\n",
       "1   b   2.0   NaN\n",
       "2   e   9.0   NaN\n",
       "3   f  10.0   NaN\n",
       "0   a   NaN   4.0\n",
       "1   b   NaN   5.0\n",
       "2   c   NaN   6.0\n",
       "3   d   NaN   7.0"
      ]
     },
     "execution_count": 43,
     "metadata": {},
     "output_type": "execute_result"
    }
   ],
   "source": [
    "pd.concat([df1, df2], axis = 0)"
   ]
  },
  {
   "cell_type": "code",
   "execution_count": 44,
   "metadata": {},
   "outputs": [
    {
     "data": {
      "text/html": [
       "<div>\n",
       "<style scoped>\n",
       "    .dataframe tbody tr th:only-of-type {\n",
       "        vertical-align: middle;\n",
       "    }\n",
       "\n",
       "    .dataframe tbody tr th {\n",
       "        vertical-align: top;\n",
       "    }\n",
       "\n",
       "    .dataframe thead th {\n",
       "        text-align: right;\n",
       "    }\n",
       "</style>\n",
       "<table border=\"1\" class=\"dataframe\">\n",
       "  <thead>\n",
       "    <tr style=\"text-align: right;\">\n",
       "      <th></th>\n",
       "      <th>key</th>\n",
       "      <th>val1</th>\n",
       "      <th>key</th>\n",
       "      <th>val2</th>\n",
       "    </tr>\n",
       "  </thead>\n",
       "  <tbody>\n",
       "    <tr>\n",
       "      <th>0</th>\n",
       "      <td>a</td>\n",
       "      <td>1</td>\n",
       "      <td>a</td>\n",
       "      <td>4</td>\n",
       "    </tr>\n",
       "    <tr>\n",
       "      <th>1</th>\n",
       "      <td>b</td>\n",
       "      <td>2</td>\n",
       "      <td>b</td>\n",
       "      <td>5</td>\n",
       "    </tr>\n",
       "    <tr>\n",
       "      <th>2</th>\n",
       "      <td>e</td>\n",
       "      <td>9</td>\n",
       "      <td>c</td>\n",
       "      <td>6</td>\n",
       "    </tr>\n",
       "    <tr>\n",
       "      <th>3</th>\n",
       "      <td>f</td>\n",
       "      <td>10</td>\n",
       "      <td>d</td>\n",
       "      <td>7</td>\n",
       "    </tr>\n",
       "  </tbody>\n",
       "</table>\n",
       "</div>"
      ],
      "text/plain": [
       "  key  val1 key  val2\n",
       "0   a     1   a     4\n",
       "1   b     2   b     5\n",
       "2   e     9   c     6\n",
       "3   f    10   d     7"
      ]
     },
     "execution_count": 44,
     "metadata": {},
     "output_type": "execute_result"
    }
   ],
   "source": [
    "pd.concat([df1, df2], axis = 1)"
   ]
  },
  {
   "cell_type": "code",
   "execution_count": 152,
   "metadata": {
    "collapsed": true
   },
   "outputs": [],
   "source": [
    "# reshaping data : Data wrangling"
   ]
  },
  {
   "cell_type": "code",
   "execution_count": 45,
   "metadata": {},
   "outputs": [
    {
     "name": "stdout",
     "output_type": "stream",
     "text": [
      "  Country  Year  GDPpC\n",
      "0      IN  1960     83\n",
      "1      IN  1970    114\n",
      "2      IN  1990    375\n",
      "3      SL  1960    143\n",
      "4      SL  1970    183\n",
      "5      SL  1990    472\n"
     ]
    }
   ],
   "source": [
    "long_data = pd.DataFrame({'Country': ['IN', 'IN', 'IN', 'SL', 'SL', 'SL'],\n",
    "                         'Year':[1960, 1970, 1990,1960, 1970, 1990  ],\n",
    "                         'GDPpC': [83, 114, 375, 143, 183,472]})\n",
    "print(long_data)"
   ]
  },
  {
   "cell_type": "code",
   "execution_count": 46,
   "metadata": {},
   "outputs": [
    {
     "name": "stdout",
     "output_type": "stream",
     "text": [
      "Year     1960  1970  1990\n",
      "Country                  \n",
      "IN         83   114   375\n",
      "SL        143   183   472\n"
     ]
    }
   ],
   "source": [
    "print(long_data.pivot('Country', 'Year', 'GDPpC'))"
   ]
  },
  {
   "cell_type": "code",
   "execution_count": 47,
   "metadata": {},
   "outputs": [],
   "source": [
    "# replacing values. "
   ]
  },
  {
   "cell_type": "code",
   "execution_count": 49,
   "metadata": {},
   "outputs": [
    {
     "name": "stdout",
     "output_type": "stream",
     "text": [
      "0      1.0\n",
      "1   -999.0\n",
      "2      0.5\n",
      "3      0.4\n",
      "dtype: float64\n"
     ]
    }
   ],
   "source": [
    "data = pd.Series([1, -999, 0.5,  0.4])\n",
    "print(data)"
   ]
  },
  {
   "cell_type": "code",
   "execution_count": 50,
   "metadata": {},
   "outputs": [
    {
     "data": {
      "text/plain": [
       "0    1.0\n",
       "1    0.0\n",
       "2    0.5\n",
       "3    0.4\n",
       "dtype: float64"
      ]
     },
     "execution_count": 50,
     "metadata": {},
     "output_type": "execute_result"
    }
   ],
   "source": [
    "data.replace(-999, 0)"
   ]
  },
  {
   "cell_type": "code",
   "execution_count": 51,
   "metadata": {},
   "outputs": [
    {
     "data": {
      "text/plain": [
       "0    1.0\n",
       "2    0.5\n",
       "3    0.4\n",
       "dtype: float64"
      ]
     },
     "execution_count": 51,
     "metadata": {},
     "output_type": "execute_result"
    }
   ],
   "source": [
    "data[ data > -999]"
   ]
  },
  {
   "cell_type": "code",
   "execution_count": 52,
   "metadata": {},
   "outputs": [],
   "source": [
    "# group by demo! "
   ]
  },
  {
   "cell_type": "code",
   "execution_count": 53,
   "metadata": {},
   "outputs": [
    {
     "data": {
      "text/html": [
       "<div>\n",
       "<style scoped>\n",
       "    .dataframe tbody tr th:only-of-type {\n",
       "        vertical-align: middle;\n",
       "    }\n",
       "\n",
       "    .dataframe tbody tr th {\n",
       "        vertical-align: top;\n",
       "    }\n",
       "\n",
       "    .dataframe thead th {\n",
       "        text-align: right;\n",
       "    }\n",
       "</style>\n",
       "<table border=\"1\" class=\"dataframe\">\n",
       "  <thead>\n",
       "    <tr style=\"text-align: right;\">\n",
       "      <th></th>\n",
       "      <th>group</th>\n",
       "      <th>group_Name</th>\n",
       "      <th>value1</th>\n",
       "      <th>value2</th>\n",
       "    </tr>\n",
       "  </thead>\n",
       "  <tbody>\n",
       "    <tr>\n",
       "      <th>0</th>\n",
       "      <td>a</td>\n",
       "      <td>Marker</td>\n",
       "      <td>12</td>\n",
       "      <td>120</td>\n",
       "    </tr>\n",
       "    <tr>\n",
       "      <th>1</th>\n",
       "      <td>a</td>\n",
       "      <td>Marker</td>\n",
       "      <td>10</td>\n",
       "      <td>100</td>\n",
       "    </tr>\n",
       "    <tr>\n",
       "      <th>2</th>\n",
       "      <td>b</td>\n",
       "      <td>Projector</td>\n",
       "      <td>3</td>\n",
       "      <td>30</td>\n",
       "    </tr>\n",
       "    <tr>\n",
       "      <th>3</th>\n",
       "      <td>b</td>\n",
       "      <td>Projector</td>\n",
       "      <td>6</td>\n",
       "      <td>60</td>\n",
       "    </tr>\n",
       "  </tbody>\n",
       "</table>\n",
       "</div>"
      ],
      "text/plain": [
       "  group group_Name  value1  value2\n",
       "0     a     Marker      12     120\n",
       "1     a     Marker      10     100\n",
       "2     b  Projector       3      30\n",
       "3     b  Projector       6      60"
      ]
     },
     "execution_count": 53,
     "metadata": {},
     "output_type": "execute_result"
    }
   ],
   "source": [
    "df = pd.DataFrame({'group': ['a', 'a', 'b', 'b'],\n",
    "                   'group_Name': ['Marker', 'Marker', 'Projector', 'Projector'],\n",
    "                         'value1':[12, 10, 3, 6],\n",
    "                         'value2':[120, 100, 30, 60]})\n",
    "df"
   ]
  },
  {
   "cell_type": "code",
   "execution_count": 54,
   "metadata": {},
   "outputs": [
    {
     "name": "stdout",
     "output_type": "stream",
     "text": [
      "<pandas.core.groupby.groupby.DataFrameGroupBy object at 0x0000021BCCF4DA90>\n"
     ]
    }
   ],
   "source": [
    "grouped = df.groupby('group')\n",
    "print(grouped)"
   ]
  },
  {
   "cell_type": "code",
   "execution_count": 55,
   "metadata": {},
   "outputs": [
    {
     "name": "stdout",
     "output_type": "stream",
     "text": [
      "       value1  value2\n",
      "group                \n",
      "a        11.0   110.0\n",
      "b         4.5    45.0\n"
     ]
    }
   ],
   "source": [
    "print(grouped.mean())"
   ]
  },
  {
   "cell_type": "code",
   "execution_count": 56,
   "metadata": {},
   "outputs": [
    {
     "data": {
      "text/html": [
       "<div>\n",
       "<style scoped>\n",
       "    .dataframe tbody tr th:only-of-type {\n",
       "        vertical-align: middle;\n",
       "    }\n",
       "\n",
       "    .dataframe tbody tr th {\n",
       "        vertical-align: top;\n",
       "    }\n",
       "\n",
       "    .dataframe thead th {\n",
       "        text-align: right;\n",
       "    }\n",
       "</style>\n",
       "<table border=\"1\" class=\"dataframe\">\n",
       "  <thead>\n",
       "    <tr style=\"text-align: right;\">\n",
       "      <th></th>\n",
       "      <th></th>\n",
       "      <th>value1</th>\n",
       "      <th>value2</th>\n",
       "    </tr>\n",
       "    <tr>\n",
       "      <th>group</th>\n",
       "      <th>group_Name</th>\n",
       "      <th></th>\n",
       "      <th></th>\n",
       "    </tr>\n",
       "  </thead>\n",
       "  <tbody>\n",
       "    <tr>\n",
       "      <th>a</th>\n",
       "      <th>Marker</th>\n",
       "      <td>22</td>\n",
       "      <td>110</td>\n",
       "    </tr>\n",
       "    <tr>\n",
       "      <th>b</th>\n",
       "      <th>Projector</th>\n",
       "      <td>9</td>\n",
       "      <td>45</td>\n",
       "    </tr>\n",
       "  </tbody>\n",
       "</table>\n",
       "</div>"
      ],
      "text/plain": [
       "                  value1  value2\n",
       "group group_Name                \n",
       "a     Marker          22     110\n",
       "b     Projector        9      45"
      ]
     },
     "execution_count": 56,
     "metadata": {},
     "output_type": "execute_result"
    }
   ],
   "source": [
    "df. groupby(['group','group_Name']).agg({'value1':np.sum, 'value2':np.mean})"
   ]
  },
  {
   "cell_type": "code",
   "execution_count": 58,
   "metadata": {},
   "outputs": [
    {
     "data": {
      "text/plain": [
       "group\n",
       "a    11.0\n",
       "b     4.5\n",
       "Name: value1, dtype: float64"
      ]
     },
     "execution_count": 58,
     "metadata": {},
     "output_type": "execute_result"
    }
   ],
   "source": [
    "df.groupby('group')['value1'].mean()"
   ]
  },
  {
   "cell_type": "code",
   "execution_count": 59,
   "metadata": {},
   "outputs": [
    {
     "name": "stdout",
     "output_type": "stream",
     "text": [
      "       value1  value2\n",
      "group                \n",
      "a          22     220\n",
      "b           9      90\n"
     ]
    }
   ],
   "source": [
    "print(grouped.sum())"
   ]
  },
  {
   "cell_type": "code",
   "execution_count": 60,
   "metadata": {},
   "outputs": [
    {
     "name": "stdout",
     "output_type": "stream",
     "text": [
      "       value1  value2\n",
      "group                \n",
      "a        11.0   110.0\n",
      "b         4.5    45.0\n"
     ]
    }
   ],
   "source": [
    "print(grouped.apply(np.mean))"
   ]
  },
  {
   "cell_type": "code",
   "execution_count": 61,
   "metadata": {},
   "outputs": [],
   "source": [
    "## apply working on dataframes directly. "
   ]
  },
  {
   "cell_type": "code",
   "execution_count": 62,
   "metadata": {},
   "outputs": [
    {
     "data": {
      "text/html": [
       "<div>\n",
       "<style scoped>\n",
       "    .dataframe tbody tr th:only-of-type {\n",
       "        vertical-align: middle;\n",
       "    }\n",
       "\n",
       "    .dataframe tbody tr th {\n",
       "        vertical-align: top;\n",
       "    }\n",
       "\n",
       "    .dataframe thead th {\n",
       "        text-align: right;\n",
       "    }\n",
       "</style>\n",
       "<table border=\"1\" class=\"dataframe\">\n",
       "  <thead>\n",
       "    <tr style=\"text-align: right;\">\n",
       "      <th></th>\n",
       "      <th>0</th>\n",
       "      <th>1</th>\n",
       "      <th>2</th>\n",
       "      <th>3</th>\n",
       "    </tr>\n",
       "  </thead>\n",
       "  <tbody>\n",
       "    <tr>\n",
       "      <th>0</th>\n",
       "      <td>1.697856</td>\n",
       "      <td>0.149610</td>\n",
       "      <td>-0.187008</td>\n",
       "      <td>0.402637</td>\n",
       "    </tr>\n",
       "    <tr>\n",
       "      <th>1</th>\n",
       "      <td>0.852483</td>\n",
       "      <td>-1.158406</td>\n",
       "      <td>-0.630855</td>\n",
       "      <td>-0.810859</td>\n",
       "    </tr>\n",
       "    <tr>\n",
       "      <th>2</th>\n",
       "      <td>-0.686388</td>\n",
       "      <td>0.016776</td>\n",
       "      <td>0.734101</td>\n",
       "      <td>-1.343749</td>\n",
       "    </tr>\n",
       "    <tr>\n",
       "      <th>3</th>\n",
       "      <td>-0.333639</td>\n",
       "      <td>-0.958606</td>\n",
       "      <td>-0.236065</td>\n",
       "      <td>1.229052</td>\n",
       "    </tr>\n",
       "    <tr>\n",
       "      <th>4</th>\n",
       "      <td>1.302849</td>\n",
       "      <td>-0.125806</td>\n",
       "      <td>-0.909634</td>\n",
       "      <td>1.015242</td>\n",
       "    </tr>\n",
       "    <tr>\n",
       "      <th>5</th>\n",
       "      <td>-0.865369</td>\n",
       "      <td>1.616646</td>\n",
       "      <td>1.107341</td>\n",
       "      <td>-0.442351</td>\n",
       "    </tr>\n",
       "    <tr>\n",
       "      <th>6</th>\n",
       "      <td>-0.073833</td>\n",
       "      <td>-1.416585</td>\n",
       "      <td>-0.223198</td>\n",
       "      <td>-0.538485</td>\n",
       "    </tr>\n",
       "    <tr>\n",
       "      <th>7</th>\n",
       "      <td>1.501798</td>\n",
       "      <td>1.082005</td>\n",
       "      <td>0.236932</td>\n",
       "      <td>0.289609</td>\n",
       "    </tr>\n",
       "    <tr>\n",
       "      <th>8</th>\n",
       "      <td>0.435250</td>\n",
       "      <td>-0.740443</td>\n",
       "      <td>0.461262</td>\n",
       "      <td>-1.935815</td>\n",
       "    </tr>\n",
       "    <tr>\n",
       "      <th>9</th>\n",
       "      <td>0.394828</td>\n",
       "      <td>0.586279</td>\n",
       "      <td>-0.040511</td>\n",
       "      <td>0.989968</td>\n",
       "    </tr>\n",
       "    <tr>\n",
       "      <th>10</th>\n",
       "      <td>1.500822</td>\n",
       "      <td>0.695468</td>\n",
       "      <td>-0.169817</td>\n",
       "      <td>0.722295</td>\n",
       "    </tr>\n",
       "    <tr>\n",
       "      <th>11</th>\n",
       "      <td>1.763540</td>\n",
       "      <td>-2.450864</td>\n",
       "      <td>2.362416</td>\n",
       "      <td>0.331151</td>\n",
       "    </tr>\n",
       "    <tr>\n",
       "      <th>12</th>\n",
       "      <td>-0.324815</td>\n",
       "      <td>0.808992</td>\n",
       "      <td>-0.914193</td>\n",
       "      <td>-0.604205</td>\n",
       "    </tr>\n",
       "    <tr>\n",
       "      <th>13</th>\n",
       "      <td>0.794431</td>\n",
       "      <td>-0.055320</td>\n",
       "      <td>0.399173</td>\n",
       "      <td>0.413570</td>\n",
       "    </tr>\n",
       "    <tr>\n",
       "      <th>14</th>\n",
       "      <td>1.506589</td>\n",
       "      <td>0.527305</td>\n",
       "      <td>-1.286397</td>\n",
       "      <td>-1.263028</td>\n",
       "    </tr>\n",
       "    <tr>\n",
       "      <th>15</th>\n",
       "      <td>0.501936</td>\n",
       "      <td>-1.588766</td>\n",
       "      <td>0.658093</td>\n",
       "      <td>-2.088862</td>\n",
       "    </tr>\n",
       "    <tr>\n",
       "      <th>16</th>\n",
       "      <td>-0.461271</td>\n",
       "      <td>0.013361</td>\n",
       "      <td>1.227988</td>\n",
       "      <td>-0.728938</td>\n",
       "    </tr>\n",
       "    <tr>\n",
       "      <th>17</th>\n",
       "      <td>-0.211500</td>\n",
       "      <td>0.810279</td>\n",
       "      <td>-1.346098</td>\n",
       "      <td>-0.718150</td>\n",
       "    </tr>\n",
       "    <tr>\n",
       "      <th>18</th>\n",
       "      <td>-1.629620</td>\n",
       "      <td>-1.075247</td>\n",
       "      <td>-0.104295</td>\n",
       "      <td>1.064003</td>\n",
       "    </tr>\n",
       "    <tr>\n",
       "      <th>19</th>\n",
       "      <td>-1.461500</td>\n",
       "      <td>-0.148439</td>\n",
       "      <td>-0.072709</td>\n",
       "      <td>-1.118153</td>\n",
       "    </tr>\n",
       "  </tbody>\n",
       "</table>\n",
       "</div>"
      ],
      "text/plain": [
       "           0         1         2         3\n",
       "0   1.697856  0.149610 -0.187008  0.402637\n",
       "1   0.852483 -1.158406 -0.630855 -0.810859\n",
       "2  -0.686388  0.016776  0.734101 -1.343749\n",
       "3  -0.333639 -0.958606 -0.236065  1.229052\n",
       "4   1.302849 -0.125806 -0.909634  1.015242\n",
       "5  -0.865369  1.616646  1.107341 -0.442351\n",
       "6  -0.073833 -1.416585 -0.223198 -0.538485\n",
       "7   1.501798  1.082005  0.236932  0.289609\n",
       "8   0.435250 -0.740443  0.461262 -1.935815\n",
       "9   0.394828  0.586279 -0.040511  0.989968\n",
       "10  1.500822  0.695468 -0.169817  0.722295\n",
       "11  1.763540 -2.450864  2.362416  0.331151\n",
       "12 -0.324815  0.808992 -0.914193 -0.604205\n",
       "13  0.794431 -0.055320  0.399173  0.413570\n",
       "14  1.506589  0.527305 -1.286397 -1.263028\n",
       "15  0.501936 -1.588766  0.658093 -2.088862\n",
       "16 -0.461271  0.013361  1.227988 -0.728938\n",
       "17 -0.211500  0.810279 -1.346098 -0.718150\n",
       "18 -1.629620 -1.075247 -0.104295  1.064003\n",
       "19 -1.461500 -0.148439 -0.072709 -1.118153"
      ]
     },
     "execution_count": 62,
     "metadata": {},
     "output_type": "execute_result"
    }
   ],
   "source": [
    "dataframe =  pd.DataFrame(np.random.randn(20, 4))\n",
    "dataframe"
   ]
  },
  {
   "cell_type": "code",
   "execution_count": 63,
   "metadata": {},
   "outputs": [
    {
     "data": {
      "text/plain": [
       "0     0.515774\n",
       "1    -0.436909\n",
       "2    -0.319815\n",
       "3    -0.074815\n",
       "4     0.320663\n",
       "5     0.354067\n",
       "6    -0.563025\n",
       "7     0.777586\n",
       "8    -0.444936\n",
       "9     0.482641\n",
       "10    0.687192\n",
       "11    0.501561\n",
       "12   -0.258555\n",
       "13    0.387963\n",
       "14   -0.128883\n",
       "15   -0.629400\n",
       "16    0.012785\n",
       "17   -0.366367\n",
       "18   -0.436290\n",
       "19   -0.700200\n",
       "dtype: float64"
      ]
     },
     "execution_count": 63,
     "metadata": {},
     "output_type": "execute_result"
    }
   ],
   "source": [
    "#Compute mean of every row\n",
    "dataframe.apply(np.mean, axis = 1 )"
   ]
  },
  {
   "cell_type": "code",
   "execution_count": 64,
   "metadata": {},
   "outputs": [
    {
     "data": {
      "text/plain": [
       "0    0.310222\n",
       "1   -0.170588\n",
       "2    0.053326\n",
       "3   -0.256753\n",
       "dtype: float64"
      ]
     },
     "execution_count": 64,
     "metadata": {},
     "output_type": "execute_result"
    }
   ],
   "source": [
    "#Copute mean of every column \n",
    "dataframe.apply(np.mean, axis = 0)"
   ]
  },
  {
   "cell_type": "code",
   "execution_count": 65,
   "metadata": {},
   "outputs": [],
   "source": [
    "## lambda operators. \n"
   ]
  },
  {
   "cell_type": "code",
   "execution_count": 66,
   "metadata": {},
   "outputs": [
    {
     "data": {
      "text/plain": [
       "6"
      ]
     },
     "execution_count": 66,
     "metadata": {},
     "output_type": "execute_result"
    }
   ],
   "source": [
    "f = lambda x, y: x + y\n",
    "f(1, 5)"
   ]
  },
  {
   "cell_type": "code",
   "execution_count": 67,
   "metadata": {},
   "outputs": [
    {
     "name": "stdout",
     "output_type": "stream",
     "text": [
      "           0         1         2         3\n",
      "0   1.182083 -0.366164 -0.702782 -0.113137\n",
      "1   1.289392 -0.721497 -0.193946 -0.373950\n",
      "2  -0.366573  0.336591  1.053916 -1.023934\n",
      "3  -0.258824 -0.883792 -0.161251  1.303867\n",
      "4   0.982186 -0.446468 -1.230297  0.694579\n",
      "5  -1.219435  1.262579  0.753274 -0.796417\n",
      "6   0.489192 -0.853559  0.339827  0.024540\n",
      "7   0.724212  0.304419 -0.540654 -0.487977\n",
      "8   0.880187 -0.295507  0.906198 -1.490878\n",
      "9  -0.087813  0.103638 -0.523152  0.507327\n",
      "10  0.813630  0.008276 -0.857009  0.035103\n",
      "11  1.261979 -2.952425  1.860856 -0.170410\n",
      "12 -0.066260  1.067547 -0.655638 -0.345649\n",
      "13  0.406468 -0.443283  0.011209  0.025606\n",
      "14  1.635472  0.656188 -1.157515 -1.134145\n",
      "15  1.131336 -0.959366  1.287492 -1.459462\n",
      "16 -0.474056  0.000576  1.215203 -0.741723\n",
      "17  0.154867  1.176646 -0.979731 -0.351783\n",
      "18 -1.193331 -0.638957  0.331994  1.500293\n",
      "19 -0.761300  0.551762  0.627491 -0.417953\n"
     ]
    }
   ],
   "source": [
    "print(dataframe.apply(lambda x : (x - np.mean(x)), axis = 1))"
   ]
  }
 ],
 "metadata": {
  "anaconda-cloud": {},
  "kernelspec": {
   "display_name": "Python 3",
   "language": "python",
   "name": "python3"
  },
  "language_info": {
   "codemirror_mode": {
    "name": "ipython",
    "version": 3
   },
   "file_extension": ".py",
   "mimetype": "text/x-python",
   "name": "python",
   "nbconvert_exporter": "python",
   "pygments_lexer": "ipython3",
   "version": "3.6.5"
  }
 },
 "nbformat": 4,
 "nbformat_minor": 1
}
