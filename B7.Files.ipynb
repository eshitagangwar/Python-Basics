{
 "cells": [
  {
   "cell_type": "code",
   "execution_count": null,
   "metadata": {
    "collapsed": true
   },
   "outputs": [],
   "source": [
    "'''\n",
    "string Functions\n",
    "1.startswith\n",
    "2.rstrip, lstrip, strip\n",
    "3. split based on a deminiter, space becomes the default delimiter\n",
    "'''"
   ]
  },
  {
   "cell_type": "code",
   "execution_count": 1,
   "metadata": {},
   "outputs": [
    {
     "name": "stdout",
     "output_type": "stream",
     "text": [
      "From stephen.marquard@uct.ac.za Sat Jan  5 09:14:16 2008\n",
      "\n",
      "Return-Path: <postmaster@collab.sakaiproject.org>\n",
      "\n",
      "Received: from murder (mail.umich.edu [141.211.14.90])\n",
      "\n",
      "\t by frankenstein.mail.umich.edu (Cyrus v2.3.8) with LMTPA;\n",
      "\n",
      "\t Sat, 05 Jan 2008 09:14:16 -0500\n",
      "\n",
      "X-Sieve: CMU Sieve 2.3\n",
      "\n",
      "Received: from murder ([unix socket])\n",
      "\n",
      "\t by mail.umich.edu (Cyrus v2.2.12) with LMTPA;\n",
      "\n",
      "\t Sat, 05 Jan 2008 09:14:16 -0500\n",
      "\n",
      "Received: from holes.mr.itd.umich.edu (holes.mr.itd.umich.edu [141.211.14.79])\n",
      "\n",
      "\tby flawless.mail.umich.edu () with ESMTP id m05EEFR1013674;\n",
      "\n",
      "\tSat, 5 Jan 2008 09:14:15 -0500\n",
      "\n",
      "Received: FROM paploo.uhi.ac.uk (app1.prod.collab.uhi.ac.uk [194.35.219.184])\n",
      "\n",
      "\tBY holes.mr.itd.umich.edu ID 477F90B0.2DB2F.12494 ; \n",
      "\n",
      "\t 5 Jan 2008 09:14:10 -0500\n",
      "\n",
      "Received: from paploo.uhi.ac.uk (localhost [127.0.0.1])\n",
      "\n",
      "\tby paploo.uhi.ac.uk (Postfix) with ESMTP id 5F919BC2F2;\n",
      "\n",
      "\tSat,  5 Jan 2008 14:10:05 +0000 (GMT)\n",
      "\n",
      "Message-ID: <200801051412.m05ECIaH010327@nakamura.uits.iupui.edu>\n",
      "\n",
      "Mime-Version: 1.0\n",
      "\n",
      "Content-Transfer-Encoding: 7bit\n",
      "\n",
      "Received: from prod.collab.uhi.ac.uk ([194.35.219.182])\n",
      "\n",
      "          by paploo.uhi.ac.uk (JAMES SMTP Server 2.1.3) with SMTP ID 899\n",
      "\n",
      "          for <source@collab.sakaiproject.org>;\n",
      "\n",
      "          Sat, 5 Jan 2008 14:09:50 +0000 (GMT)\n",
      "\n",
      "Received: from nakamura.uits.iupui.edu (nakamura.uits.iupui.edu [134.68.220.122])\n",
      "\n",
      "\tby shmi.uhi.ac.uk (Postfix) with ESMTP id A215243002\n",
      "\n",
      "\tfor <source@collab.sakaiproject.org>; Sat,  5 Jan 2008 14:13:33 +0000 (GMT)\n",
      "\n",
      "Received: from nakamura.uits.iupui.edu (localhost [127.0.0.1])\n",
      "\n",
      "\tby nakamura.uits.iupui.edu (8.12.11.20060308/8.12.11) with ESMTP id m05ECJVp010329\n",
      "\n"
     ]
    }
   ],
   "source": [
    "fhand = open('mbox.txt')\n",
    "maxread = 0\n",
    "for line in fhand:\n",
    "    if maxread == 30:\n",
    "        break\n",
    "    else:\n",
    "        print(line)\n",
    "        maxread = maxread+1"
   ]
  },
  {
   "cell_type": "code",
   "execution_count": null,
   "metadata": {},
   "outputs": [],
   "source": []
  },
  {
   "cell_type": "code",
   "execution_count": null,
   "metadata": {
    "collapsed": true
   },
   "outputs": [],
   "source": [
    "# Find out All the distinct From email addresses\n",
    "# Find the count of distinct people who have sent an email\n",
    "#How many emails have been flagged as \"spam\" and how many as \"innocent\"\n",
    "#How many emails have been spammed as \"innocent\" with confidence level \n",
    "# less than 75%"
   ]
  },
  {
   "cell_type": "code",
   "execution_count": 18,
   "metadata": {},
   "outputs": [
    {
     "data": {
      "text/plain": [
       "'abc@pqr'"
      ]
     },
     "execution_count": 18,
     "metadata": {},
     "output_type": "execute_result"
    }
   ],
   "source": [
    "line = 'From : abc@pqr'\n",
    "line = line.split(':')\n",
    "line[1].strip()"
   ]
  },
  {
   "cell_type": "code",
   "execution_count": 1,
   "metadata": {},
   "outputs": [
    {
     "name": "stdout",
     "output_type": "stream",
     "text": [
      "['stephen.marquard@uct.ac.za', 'louis@media.berkeley.edu', 'zqian@umich.edu', 'rjlowe@iupui.edu', 'cwen@iupui.edu', 'gsilver@umich.edu', 'wagnermr@iupui.edu', 'antranig@caret.cam.ac.uk', 'gopal.ramasammycook@gmail.com', 'david.horwitz@uct.ac.za', 'ray@media.berkeley.edu', 'mmmay@indiana.edu', 'stuart.freeman@et.gatech.edu', 'tnguyen@iupui.edu', 'chmaurer@iupui.edu', 'aaronz@vt.edu', 'ian@caret.cam.ac.uk', 'csev@umich.edu', 'jimeng@umich.edu', 'josrodri@iupui.edu', 'knoop@umich.edu', 'bkirschn@umich.edu', 'dlhaines@umich.edu', 'hu2@iupui.edu', 'sgithens@caret.cam.ac.uk', 'arwhyte@umich.edu', 'gbhatnag@umich.edu', 'gjthomas@iupui.edu', 'a.fish@lancaster.ac.uk', 'ajpoland@iupui.edu', 'lance@indiana.edu', 'ssmail@indiana.edu', 'jlrenfro@ucdavis.edu', 'nuno@ufp.pt', 'zach.thomas@txstate.edu', 'ktsao@stanford.edu', 'ostermmg@whitman.edu', 'john.ellis@rsmart.com', 'jleasia@umich.edu', 'ggolden@umich.edu', 'thoppaymallika@fhda.edu', 'kimsooil@bu.edu', 'bahollad@indiana.edu', 'jzaremba@unicon.net', 'mbreuker@loi.nl', 'colin.clark@utoronto.ca']\n",
      "46 distinct From Addresses\n"
     ]
    }
   ],
   "source": [
    "# Find out All the distinct From email addresses\n",
    "# Find the count of distinct people who have sent an email\n",
    "\n",
    "fhand = open('mbox.txt')\n",
    "fromEmail = []\n",
    "count = 0\n",
    "for line in fhand:\n",
    "    line=line.strip()\n",
    "    if line.startswith('From:'):\n",
    "        line = line.split(':')\n",
    "        line[1] = line[1].strip()\n",
    "        if line[1] not in fromEmail:\n",
    "            fromEmail.append(line[1])\n",
    "            count = count+1\n",
    "print(fromEmail)\n",
    "print(count, \"distinct From Addresses\")"
   ]
  },
  {
   "cell_type": "code",
   "execution_count": 2,
   "metadata": {},
   "outputs": [
    {
     "name": "stdout",
     "output_type": "stream",
     "text": [
      "['stephen.marquard@uct.ac.za', 'louis@media.berkeley.edu', 'zqian@umich.edu', 'rjlowe@iupui.edu', 'cwen@iupui.edu', 'gsilver@umich.edu', 'wagnermr@iupui.edu', 'antranig@caret.cam.ac.uk', 'gopal.ramasammycook@gmail.com', 'david.horwitz@uct.ac.za', 'ray@media.berkeley.edu', 'mmmay@indiana.edu', 'stuart.freeman@et.gatech.edu', 'tnguyen@iupui.edu', 'chmaurer@iupui.edu', 'aaronz@vt.edu', 'ian@caret.cam.ac.uk', 'csev@umich.edu', 'jimeng@umich.edu', 'josrodri@iupui.edu', 'knoop@umich.edu', 'bkirschn@umich.edu', 'dlhaines@umich.edu', 'hu2@iupui.edu', 'sgithens@caret.cam.ac.uk', 'arwhyte@umich.edu', 'gbhatnag@umich.edu', 'gjthomas@iupui.edu', 'a.fish@lancaster.ac.uk', 'ajpoland@iupui.edu', 'lance@indiana.edu', 'ssmail@indiana.edu', 'jlrenfro@ucdavis.edu', 'nuno@ufp.pt', 'zach.thomas@txstate.edu', 'ktsao@stanford.edu', 'ostermmg@whitman.edu', 'john.ellis@rsmart.com', 'jleasia@umich.edu', 'ggolden@umich.edu', 'thoppaymallika@fhda.edu', 'kimsooil@bu.edu', 'bahollad@indiana.edu', 'jzaremba@unicon.net', 'mbreuker@loi.nl', 'colin.clark@utoronto.ca']\n",
      "46 distinct From Addresses\n"
     ]
    }
   ],
   "source": [
    "# Find out All the distinct From email addresses\n",
    "# Find the count of distinct people who have sent an email\n",
    "fhand = open('mbox.txt')\n",
    "fromEmail = []\n",
    "count = 0\n",
    "for line in fhand:\n",
    "    line=line.strip()\n",
    "    if line.startswith('From'):\n",
    "        line = line.split(' ')\n",
    "        line[1] = line[1].strip()\n",
    "        if line[1] not in fromEmail:\n",
    "            fromEmail.append(line[1])\n",
    "            count = count+1\n",
    "print(fromEmail)\n",
    "print(count, \"distinct From Addresses\")"
   ]
  },
  {
   "cell_type": "code",
   "execution_count": 31,
   "metadata": {},
   "outputs": [
    {
     "name": "stdout",
     "output_type": "stream",
     "text": [
      "0  spam from addresses\n",
      "1797  non Spam from Addresses\n"
     ]
    }
   ],
   "source": [
    "#How many emails have been flagged as \"spam\" and how many as \"innocent\"\n",
    "fhand = open('mbox.txt')\n",
    "countSpam = 0\n",
    "countInnocent = 0\n",
    "for line in fhand:\n",
    "    line=line.strip()\n",
    "    if line.startswith('X-DSPAM-Result:'):\n",
    "        line = line.split(':')\n",
    "        line[1] = line[1].strip()\n",
    "        if line[1].lower() == \"spam\":\n",
    "            countSpam = countSpam+1\n",
    "        elif line[1].lower() == \"innocent\":\n",
    "                countInnocent = countInnocent + 1\n",
    "print(countSpam, \" spam from addresses\")\n",
    "print(countInnocent, \" non Spam from Addresses\")"
   ]
  },
  {
   "cell_type": "code",
   "execution_count": 40,
   "metadata": {},
   "outputs": [
    {
     "name": "stdout",
     "output_type": "stream",
     "text": [
      "181  Innocent emails with lower confidence values\n"
     ]
    }
   ],
   "source": [
    "#How many emails have been spammed as \"innocent\" with confidence level \n",
    "# less than 75%\n",
    "fhand = open('mbox.txt')\n",
    "countInvalid = 0\n",
    "for line in fhand:\n",
    "    line=line.strip()\n",
    "    if line.startswith('X-DSPAM-Result:'):\n",
    "        line1 = line.split(':')\n",
    "        spamResult = line1[1].strip().lower()\n",
    "    elif line.startswith('X-DSPAM-Confidence:'):\n",
    "        line1 = line.split(':')\n",
    "        confidenceValue = round(float(line1[1].strip()),2)\n",
    "        if spamResult == \"innocent\" and confidenceValue < 0.75:\n",
    "            countInvalid = countInvalid+1\n",
    "print(countInvalid, \" Innocent emails with lower confidence values\")"
   ]
  }
 ],
 "metadata": {
  "kernelspec": {
   "display_name": "Python 3",
   "language": "python",
   "name": "python3"
  },
  "language_info": {
   "codemirror_mode": {
    "name": "ipython",
    "version": 3
   },
   "file_extension": ".py",
   "mimetype": "text/x-python",
   "name": "python",
   "nbconvert_exporter": "python",
   "pygments_lexer": "ipython3",
   "version": "3.6.5"
  }
 },
 "nbformat": 4,
 "nbformat_minor": 2
}
