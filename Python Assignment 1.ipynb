{
 "cells": [
  {
   "cell_type": "markdown",
   "metadata": {},
   "source": [
    "# ASSIGNMENT 1"
   ]
  },
  {
   "cell_type": "markdown",
   "metadata": {},
   "source": [
    "### 1.\tWrite a program to input 5 numbers and Find the average of 5 numbers"
   ]
  },
  {
   "cell_type": "code",
   "execution_count": 1,
   "metadata": {},
   "outputs": [
    {
     "name": "stdout",
     "output_type": "stream",
     "text": [
      "Enter the 1st number  :1\n",
      "Enter the 2nd number  :2\n",
      "Enter the 3rd number  :3\n",
      "Enter the 4th number  :4\n",
      "Enter the 5th number  :5\n",
      "\n",
      "\n",
      "The avg of the numbers is 3.0\n"
     ]
    }
   ],
   "source": [
    "\n",
    "try:\n",
    "    var1 = int(input(\"Enter the 1st number  :\"))\n",
    "    var2 = int(input(\"Enter the 2nd number  :\"))\n",
    "    var3 = int(input(\"Enter the 3rd number  :\"))\n",
    "    var4 = int(input(\"Enter the 4th number  :\"))\n",
    "    var5 = int(input(\"Enter the 5th number  :\"))\n",
    "    avg = (var1+var2+var3+var4+var5)/5\n",
    "    print(\"\\n\")\n",
    "    print(\"The avg of the numbers is\",avg)\n",
    "except:\n",
    "    print(\"Invalid Input\")"
   ]
  },
  {
   "cell_type": "markdown",
   "metadata": {},
   "source": [
    "### 2. Write a program to input 5 numbers and print numbers which are above the average"
   ]
  },
  {
   "cell_type": "code",
   "execution_count": 4,
   "metadata": {},
   "outputs": [
    {
     "name": "stdout",
     "output_type": "stream",
     "text": [
      "Enter the 1st number  :1\n",
      "Enter the 2nd number  :2\n",
      "Enter the 3rd number  :3\n",
      "Enter the 4th number  :4\n",
      "Enter the 5th number  :5\n",
      "4  is greater \n",
      "5  is greater \n"
     ]
    }
   ],
   "source": [
    "try:\n",
    "    var1 = int(input(\"Enter the 1st number  :\"))\n",
    "    var2 = int(input(\"Enter the 2nd number  :\"))\n",
    "    var3 = int(input(\"Enter the 3rd number  :\"))\n",
    "    var4 = int(input(\"Enter the 4th number  :\"))\n",
    "    var5 = int(input(\"Enter the 5th number  :\"))\n",
    "   \n",
    "    avg = (var1+var2+var3+var4+var5)/5\n",
    "    if(var1 > avg):\n",
    "        print(var1,\"  is greater \" )\n",
    "    \n",
    "    if(var2 > avg):\n",
    "        print(var2,\" is greater \")\n",
    "   \n",
    "    if(var3 > avg):\n",
    "        print(var3,\" is greater \")\n",
    "    \n",
    "    if(var4 > avg):\n",
    "        print(var4 ,\" is greater \")\n",
    "   \n",
    "    if(var5 >avg):\n",
    "        print(var5 ,\" is greater \")\n",
    "    \n",
    "except:\n",
    "    print(\"Invalid input\")"
   ]
  },
  {
   "cell_type": "markdown",
   "metadata": {},
   "source": [
    "### 3.Write a program to input 5 numbers and print even numbers"
   ]
  },
  {
   "cell_type": "code",
   "execution_count": 5,
   "metadata": {},
   "outputs": [
    {
     "name": "stdout",
     "output_type": "stream",
     "text": [
      "Enter the 1st number  :1\n",
      "Enter the 2nd number  :2\n",
      "Enter the 3rd number  :3\n",
      "Enter the 4th number  :4\n",
      "Enter the 5th number  :5\n",
      "2 is even\n",
      "4 is even\n"
     ]
    }
   ],
   "source": [
    "\n",
    "try:\n",
    "    var1 = int(input(\"Enter the 1st number  :\"))\n",
    "    var2 = int(input(\"Enter the 2nd number  :\"))\n",
    "    var3 = int(input(\"Enter the 3rd number  :\"))\n",
    "    var4 = int(input(\"Enter the 4th number  :\"))\n",
    "    var5 = int(input(\"Enter the 5th number  :\"))\n",
    "    if(var1 %2 ==0):\n",
    "        print(var1, \"is even\" )\n",
    "    \n",
    "    if(var2 %2 ==0):\n",
    "        print(var2,\"is even\")\n",
    "    \n",
    "    if(var3 %2 ==0):\n",
    "        print(var3,\"is even\")\n",
    "    \n",
    "    if(var4 %2 ==0):\n",
    "        print(var4,\"is even\")\n",
    "    \n",
    "    if(var5 %2 ==0):\n",
    "        print(var5,\"is even \")\n",
    "    \n",
    "except:\n",
    "    print(\"Invalid input\")"
   ]
  },
  {
   "cell_type": "markdown",
   "metadata": {},
   "source": [
    "### 4.\tWrite a program to input 5 numbers and multiple even number by 3 and odd numbers by 5"
   ]
  },
  {
   "cell_type": "code",
   "execution_count": 10,
   "metadata": {},
   "outputs": [
    {
     "name": "stdout",
     "output_type": "stream",
     "text": [
      "Enter the 1st number  :1\n",
      "Enter the 2nd number  :2\n",
      "Enter the 3rd number  :3\n",
      "Enter the 4th number  :4\n",
      "Enter the 5th number  :5\n",
      "1 is odd  5\n",
      "2 is even  6\n",
      "3 is odd  15\n",
      "4 is even 12\n",
      "5 is odd  25\n"
     ]
    }
   ],
   "source": [
    "\n",
    "try:\n",
    "    var1 = int(input(\"Enter the 1st number  :\"))\n",
    "    var2 = int(input(\"Enter the 2nd number  :\"))\n",
    "    var3 = int(input(\"Enter the 3rd number  :\"))\n",
    "    var4 = int(input(\"Enter the 4th number  :\"))\n",
    "    var5 = int(input(\"Enter the 5th number  :\"))\n",
    "    if(var1 %2 ==0):\n",
    "        print(var1,\"is even \",var1*3 )\n",
    "    else:\n",
    "        print(var1,\"is odd \",var1*5)\n",
    "    if(var2 %2 ==0):\n",
    "        print(var2,\"is even \",var2*3)\n",
    "    else:\n",
    "        print(var2,\"is odd \",var2*5)\n",
    "    if(var3 %2 ==0):\n",
    "        print(var3,\"is even\",var3*3)\n",
    "    else:\n",
    "        print(var3,\"is odd \",var3*5)\n",
    "    if(var4 %2 ==0):\n",
    "        print(var4,\"is even\",var4*3)\n",
    "    else:\n",
    "        print(var4,\"is odd \",var4*5) \n",
    "    if(var5 %2 ==0):\n",
    "        print(var3,\"is even\",var3*3)\n",
    "    else:\n",
    "        print(var5,\"is odd \",var5*5)\n",
    "except:\n",
    "    print(\"Invalid input\")\n",
    "        \n",
    "    "
   ]
  },
  {
   "cell_type": "markdown",
   "metadata": {},
   "source": [
    "### 5.\t Write a program to input 15 numbers:\n",
    "a.\tFind the average\n",
    "b.\tStandard deviation\n",
    "c.\tVariance\n",
    "e.\tCheck if any of the numbers are >  or < (2 * sd) from the mean and print those numbers\n",
    " Every input should be a valid number in the range > 0 and < 9999"
   ]
  },
  {
   "cell_type": "code",
   "execution_count": 18,
   "metadata": {},
   "outputs": [
    {
     "name": "stdout",
     "output_type": "stream",
     "text": [
      "enter no.1\n",
      "enter no.2\n",
      "enter no.3\n",
      "enter no.4\n",
      "enter no.5\n",
      "enter no.6\n",
      "enter no.7\n",
      "enter no.8\n",
      "enter no.9\n",
      "enter no.10\n",
      "enter no.11\n",
      "enter no.12\n",
      "enter no.13\n",
      "enter no.14\n",
      "enter no.15\n",
      "[1, 2, 3, 4, 5, 6, 7, 8, 9, 10, 11, 12, 13, 14, 15]\n",
      "mean : 8.0\n",
      "variance 18.666666666666668\n",
      "sd: 4.320493798938574\n",
      "Range 1= -0.6409875978771478 Range2= 16.64098759787715\n",
      "In Range 1\n",
      "In Range 2\n",
      "In Range 3\n",
      "In Range 4\n",
      "In Range 5\n",
      "In Range 6\n",
      "In Range 7\n",
      "In Range 8\n",
      "In Range 9\n",
      "In Range 10\n",
      "In Range 11\n",
      "In Range 12\n",
      "In Range 13\n",
      "In Range 14\n",
      "In Range 15\n"
     ]
    }
   ],
   "source": [
    "try:\n",
    "    a = []\n",
    "    for x in range(15):\n",
    "        a1= int(input(\"enter no.\"))\n",
    "        a.append(a1)\n",
    "    print(a)\n",
    "    \n",
    "    mean =0\n",
    "    sum = 0\n",
    "    for x in range(len(a)):\n",
    "        sum = sum + a[x]\n",
    "    mean = sum/len(a)\n",
    "    print(\"mean :\" ,mean)\n",
    "    \n",
    "    a1 =0\n",
    "    for x in range(len(a)):\n",
    "        a1 =a1+ ((a[x]-mean)**2)\n",
    "    sd = (a1/15)**0.5\n",
    "    print(\"variance\",a1/15)\n",
    "    print(\"sd:\",sd)\n",
    "    \n",
    "    range1 = mean - (2 * sd)\n",
    "    range2 = mean + (2 * sd)\n",
    "    \n",
    "    print(\"Range 1=\", range1, \"Range2=\", range2)\n",
    "    for i in a:\n",
    "        if ((i > range1) and (i < range2)):\n",
    "            print('In Range',i)\n",
    "        else:\n",
    "            print('Out of range' ,i)\n",
    "except:\n",
    "    print(\"Invalid Input\")\n",
    "    \n"
   ]
  },
  {
   "cell_type": "markdown",
   "metadata": {},
   "source": [
    "# 6.\tWrite a program to implement a calculator:\n",
    "a.\tInput 2 values and an operation to be performed\n",
    "b.\tValid entries for operations is:\n",
    "i.\t+ (if   both values are numbers are numeric add else concatenate)\n",
    "ii.\t–\n",
    "iii.\t* (if both are numeric multiply, if one of them is numeric and other a character replicate the character\n",
    "iv.\t/\n",
    "v.\t//\n",
    "vi.\t**\n",
    "\n"
   ]
  },
  {
   "cell_type": "code",
   "execution_count": 19,
   "metadata": {},
   "outputs": [
    {
     "name": "stdout",
     "output_type": "stream",
     "text": [
      "Enter first value   1\n",
      "Enter second value   e\n",
      "select the operator : + ---> Addition \n",
      " ---> Subtraction \n",
      " \\ ---> Divide \n",
      " ** ---> exponent \n",
      " * --> Multiply\n",
      "Enter the operator*\n",
      "The str function :  e\n"
     ]
    }
   ],
   "source": [
    "a = input(\"Enter first value   \")\n",
    "b = input(\"Enter second value   \")\n",
    "print(\"select the operator : + ---> Addition \\n ---> Subtraction \\n \\\\ ---> Divide \\n ** ---> exponent \\n * --> Multiply\")\n",
    "c = input(\"Enter the operator\")\n",
    "try:\n",
    "    a1 = int(a)\n",
    "    b1 = int(b)\n",
    "  \n",
    "    if(c =='+'):\n",
    "        print(\"The  sum is  \" +str(a1+b1))\n",
    "    if(c  == '*'):\n",
    "        print(\"The  multiply is  \" + str(a1*b1))\n",
    "    if(c == '-'):\n",
    "        print(\"The  subtraction  is   \" +str(a1-b1))\n",
    "    if(c =='/'):\n",
    "        print(\"The  divide is  \" +str(a1/b1))\n",
    "    if(c == '//'):\n",
    "        print(\"The  modulus is  \" +str(a1//b1))\n",
    "    if(c == '**'):\n",
    "        print(\"The  exponent is \" +str(a1**b1))\n",
    "except:\n",
    "    if(c == '+'):\n",
    "        print(\"The  concat is\" +(a+b))\n",
    "    try:\n",
    "        a1 = int(a)\n",
    "        if(c == '*'):\n",
    "            #print(\"this is int a \" + str(a1))\n",
    "            print(\"The str function :  \" + str(b*a1))\n",
    "    except:\n",
    "        if(c == '*'):\n",
    "            b1 = int(b)\n",
    "            print(\"the str function  :\" + str(a*b1))\n",
    "        \n",
    "    \n"
   ]
  }
 ],
 "metadata": {
  "kernelspec": {
   "display_name": "Python 3",
   "language": "python",
   "name": "python3"
  },
  "language_info": {
   "codemirror_mode": {
    "name": "ipython",
    "version": 3
   },
   "file_extension": ".py",
   "mimetype": "text/x-python",
   "name": "python",
   "nbconvert_exporter": "python",
   "pygments_lexer": "ipython3",
   "version": "3.6.5"
  }
 },
 "nbformat": 4,
 "nbformat_minor": 2
}
